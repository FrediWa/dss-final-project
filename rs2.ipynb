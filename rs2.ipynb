{
 "cells": [
  {
   "cell_type": "code",
   "execution_count": 48,
   "metadata": {
    "collapsed": true
   },
   "outputs": [],
   "source": [
    "import pandas as pd\n",
    "import numpy as np"
   ]
  },
  {
   "cell_type": "code",
   "execution_count": 56,
   "outputs": [],
   "source": [
    "data = pd.read_csv(\"rating_final.csv\")\n",
    "data = data[[\"userID\", \"placeID\", \"rating\"]]"
   ],
   "metadata": {
    "collapsed": false,
    "pycharm": {
     "name": "#%%\n"
    }
   }
  },
  {
   "cell_type": "code",
   "execution_count": 57,
   "outputs": [
    {
     "data": {
      "text/plain": "   userID  placeID  rating\n0    1077   135085       2\n1    1077   135038       2\n2    1077   132825       2\n3    1077   135060       1\n4    1068   135104       1",
      "text/html": "<div>\n<style scoped>\n    .dataframe tbody tr th:only-of-type {\n        vertical-align: middle;\n    }\n\n    .dataframe tbody tr th {\n        vertical-align: top;\n    }\n\n    .dataframe thead th {\n        text-align: right;\n    }\n</style>\n<table border=\"1\" class=\"dataframe\">\n  <thead>\n    <tr style=\"text-align: right;\">\n      <th></th>\n      <th>userID</th>\n      <th>placeID</th>\n      <th>rating</th>\n    </tr>\n  </thead>\n  <tbody>\n    <tr>\n      <th>0</th>\n      <td>1077</td>\n      <td>135085</td>\n      <td>2</td>\n    </tr>\n    <tr>\n      <th>1</th>\n      <td>1077</td>\n      <td>135038</td>\n      <td>2</td>\n    </tr>\n    <tr>\n      <th>2</th>\n      <td>1077</td>\n      <td>132825</td>\n      <td>2</td>\n    </tr>\n    <tr>\n      <th>3</th>\n      <td>1077</td>\n      <td>135060</td>\n      <td>1</td>\n    </tr>\n    <tr>\n      <th>4</th>\n      <td>1068</td>\n      <td>135104</td>\n      <td>1</td>\n    </tr>\n  </tbody>\n</table>\n</div>"
     },
     "execution_count": 57,
     "metadata": {},
     "output_type": "execute_result"
    }
   ],
   "source": [
    "data.head()"
   ],
   "metadata": {
    "collapsed": false,
    "pycharm": {
     "name": "#%%\n"
    }
   }
  },
  {
   "cell_type": "code",
   "execution_count": 58,
   "outputs": [],
   "source": [
    "from sklearn.cluster import KMeans"
   ],
   "metadata": {
    "collapsed": false,
    "pycharm": {
     "name": "#%%\n"
    }
   }
  },
  {
   "cell_type": "code",
   "execution_count": 51,
   "outputs": [],
   "source": [
    "# Create the utility matrix\n",
    "umatrix = data.pivot(columns=\"userID\", values=\"rating\")"
   ],
   "metadata": {
    "collapsed": false,
    "pycharm": {
     "name": "#%%\n"
    }
   }
  },
  {
   "cell_type": "code",
   "execution_count": 52,
   "outputs": [
    {
     "name": "stdout",
     "output_type": "stream",
     "text": [
      "99.27% empty\n"
     ]
    }
   ],
   "source": [
    "undefined_values = umatrix.isna().sum().sum()\n",
    "total_values = umatrix.shape[0] * umatrix.shape[1]\n",
    "\n",
    "sparsity = int(undefined_values / total_values * 10000)\n",
    "print(f\"{sparsity/100.0}% empty\")"
   ],
   "metadata": {
    "collapsed": false,
    "pycharm": {
     "name": "#%%\n"
    }
   }
  },
  {
   "cell_type": "code",
   "execution_count": 53,
   "outputs": [
    {
     "data": {
      "text/plain": "(array([[0., 0., 0., ..., 0., 0., 0.],\n        [0., 0., 0., ..., 0., 0., 0.],\n        [0., 0., 0., ..., 0., 0., 0.],\n        ...,\n        [0., 0., 0., ..., 0., 0., 0.],\n        [0., 0., 0., ..., 0., 0., 0.],\n        [0., 0., 0., ..., 0., 0., 0.]]),\n array([7.21110255e+00, 7.14142843e+00, 7.00000000e+00, 7.00000000e+00,\n        6.78232998e+00, 6.70820393e+00, 6.55743852e+00, 6.55743852e+00,\n        6.40312424e+00, 6.40312424e+00, 6.40312424e+00, 6.40312424e+00,\n        6.08276253e+00, 6.00000000e+00, 5.91607978e+00, 5.83095189e+00,\n        5.83095189e+00, 5.83095189e+00, 5.65685425e+00, 5.56776436e+00,\n        5.56776436e+00, 5.47722558e+00, 5.38516481e+00, 5.38516481e+00,\n        5.38516481e+00, 5.29150262e+00, 5.29150262e+00, 5.29150262e+00,\n        5.29150262e+00, 5.19615242e+00, 5.09901951e+00, 5.00000000e+00,\n        5.00000000e+00, 5.00000000e+00, 5.00000000e+00, 4.89897949e+00,\n        4.89897949e+00, 4.89897949e+00, 4.89897949e+00, 4.79583152e+00,\n        4.79583152e+00, 4.79583152e+00, 4.79583152e+00, 4.79583152e+00,\n        4.69041576e+00, 4.69041576e+00, 4.69041576e+00, 4.58257569e+00,\n        4.47213595e+00, 4.47213595e+00, 4.47213595e+00, 4.47213595e+00,\n        4.35889894e+00, 4.24264069e+00, 4.24264069e+00, 4.24264069e+00,\n        4.24264069e+00, 4.24264069e+00, 4.12310563e+00, 4.12310563e+00,\n        4.00000000e+00, 4.00000000e+00, 4.00000000e+00, 4.00000000e+00,\n        4.00000000e+00, 3.74165739e+00, 3.74165739e+00, 3.74165739e+00,\n        3.74165739e+00, 3.60555128e+00, 3.60555128e+00, 3.60555128e+00,\n        3.60555128e+00, 3.60555128e+00, 3.60555128e+00, 3.60555128e+00,\n        3.46410162e+00, 3.46410162e+00, 3.46410162e+00, 3.46410162e+00,\n        3.46410162e+00, 3.46410162e+00, 3.46410162e+00, 3.31662479e+00,\n        3.31662479e+00, 3.31662479e+00, 3.31662479e+00, 3.31662479e+00,\n        3.16227766e+00, 3.16227766e+00, 3.16227766e+00, 3.16227766e+00,\n        3.16227766e+00, 3.16227766e+00, 3.00000000e+00, 3.00000000e+00,\n        3.00000000e+00, 3.00000000e+00, 3.00000000e+00, 2.82842712e+00,\n        2.82842712e+00, 2.82842712e+00, 2.82842712e+00, 2.82842712e+00,\n        2.82842712e+00, 2.64575131e+00, 2.64575131e+00, 2.64575131e+00,\n        2.44948974e+00, 2.44948974e+00, 2.44948974e+00, 2.44948974e+00,\n        2.44948974e+00, 2.23606798e+00, 2.23606798e+00, 2.23606798e+00,\n        2.23606798e+00, 2.23606798e+00, 2.00000000e+00, 2.00000000e+00,\n        2.00000000e+00, 1.73205081e+00, 1.41421356e+00, 1.00000000e+00,\n        1.00000000e+00, 1.00000000e+00, 1.00000000e+00, 7.20533888e-16,\n        7.20533888e-16, 7.20533888e-16, 7.20533888e-16, 7.20533888e-16,\n        7.03967676e-16, 6.92266567e-16, 6.87002106e-16, 6.83558465e-16,\n        6.54888393e-16, 5.99520433e-16]),\n array([[ 0.,  0.,  0., ...,  0., -1.,  0.],\n        [ 0.,  0.,  0., ...,  0.,  0.,  0.],\n        [ 0.,  0.,  0., ...,  0.,  0.,  0.],\n        ...,\n        [ 0.,  0.,  0., ...,  0.,  0.,  0.],\n        [ 0.,  0.,  0., ...,  0.,  0.,  0.],\n        [ 0.,  0.,  0., ...,  0.,  0.,  0.]]))"
     },
     "execution_count": 53,
     "metadata": {},
     "output_type": "execute_result"
    }
   ],
   "source": [
    "# Replace NaN with 0\n",
    "umatrix.fillna(0, inplace=True)\n",
    "\n",
    "# Factorize using Numpy SVD\n",
    "np.linalg.svd(umatrix, full_matrices=False)"
   ],
   "metadata": {
    "collapsed": false,
    "pycharm": {
     "name": "#%%\n"
    }
   }
  },
  {
   "cell_type": "markdown",
   "source": [
    "    ## Hybrid recommender\n",
    "![alt text](feature_augment_graph.jpeg \"Feature augment\")\n",
    "Source: https://medium.com/analytics-vidhya/7-types-of-hybrid-recommendation-system-3e4f78266ad8"
   ],
   "metadata": {
    "collapsed": false,
    "pycharm": {
     "name": "#%% md\n"
    }
   }
  },
  {
   "cell_type": "code",
   "execution_count": null,
   "outputs": [],
   "source": [],
   "metadata": {
    "collapsed": false,
    "pycharm": {
     "name": "#%%\n"
    }
   }
  }
 ],
 "metadata": {
  "kernelspec": {
   "display_name": "Python 3",
   "language": "python",
   "name": "python3"
  },
  "language_info": {
   "codemirror_mode": {
    "name": "ipython",
    "version": 2
   },
   "file_extension": ".py",
   "mimetype": "text/x-python",
   "name": "python",
   "nbconvert_exporter": "python",
   "pygments_lexer": "ipython2",
   "version": "2.7.6"
  }
 },
 "nbformat": 4,
 "nbformat_minor": 0
}