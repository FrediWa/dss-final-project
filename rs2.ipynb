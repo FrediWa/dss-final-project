{
 "cells": [
  {
   "cell_type": "code",
   "execution_count": 533,
   "metadata": {
    "collapsed": true
   },
   "outputs": [],
   "source": [
    "import math\n",
    "\n",
    "import pandas as pd\n",
    "import numpy as np"
   ]
  },
  {
   "cell_type": "code",
   "execution_count": 534,
   "outputs": [],
   "source": [
    "data = pd.read_csv(\"rating_final.csv\", sep=\";\")\n",
    "data = data[[\"userID\", \"placeID\", \"rating\"]]"
   ],
   "metadata": {
    "collapsed": false,
    "pycharm": {
     "name": "#%%\n"
    }
   }
  },
  {
   "cell_type": "code",
   "execution_count": 535,
   "outputs": [
    {
     "data": {
      "text/plain": "   userID  placeID  rating\n0    1077   135085       3\n1    1077   135038       3\n2    1077   132825       3\n3    1077   135060       2\n4    1068   135104       2",
      "text/html": "<div>\n<style scoped>\n    .dataframe tbody tr th:only-of-type {\n        vertical-align: middle;\n    }\n\n    .dataframe tbody tr th {\n        vertical-align: top;\n    }\n\n    .dataframe thead th {\n        text-align: right;\n    }\n</style>\n<table border=\"1\" class=\"dataframe\">\n  <thead>\n    <tr style=\"text-align: right;\">\n      <th></th>\n      <th>userID</th>\n      <th>placeID</th>\n      <th>rating</th>\n    </tr>\n  </thead>\n  <tbody>\n    <tr>\n      <th>0</th>\n      <td>1077</td>\n      <td>135085</td>\n      <td>3</td>\n    </tr>\n    <tr>\n      <th>1</th>\n      <td>1077</td>\n      <td>135038</td>\n      <td>3</td>\n    </tr>\n    <tr>\n      <th>2</th>\n      <td>1077</td>\n      <td>132825</td>\n      <td>3</td>\n    </tr>\n    <tr>\n      <th>3</th>\n      <td>1077</td>\n      <td>135060</td>\n      <td>2</td>\n    </tr>\n    <tr>\n      <th>4</th>\n      <td>1068</td>\n      <td>135104</td>\n      <td>2</td>\n    </tr>\n  </tbody>\n</table>\n</div>"
     },
     "execution_count": 535,
     "metadata": {},
     "output_type": "execute_result"
    }
   ],
   "source": [
    "data.head()"
   ],
   "metadata": {
    "collapsed": false,
    "pycharm": {
     "name": "#%%\n"
    }
   }
  },
  {
   "cell_type": "markdown",
   "source": [
    "## Create utility matrix"
   ],
   "metadata": {
    "collapsed": false,
    "pycharm": {
     "name": "#%% md\n"
    }
   }
  },
  {
   "cell_type": "code",
   "execution_count": 536,
   "outputs": [],
   "source": [
    "# Create the utility matrix\n",
    "umatrix = data.pivot(index=\"userID\", columns=\"placeID\", values=\"rating\")\n",
    "\n",
    "# Count number of reviews for users\n",
    "num_of_reviews = umatrix.count(axis=1)"
   ],
   "metadata": {
    "collapsed": false,
    "pycharm": {
     "name": "#%%\n"
    }
   }
  },
  {
   "cell_type": "code",
   "execution_count": 537,
   "outputs": [
    {
     "name": "stdout",
     "output_type": "stream",
     "text": [
      "93.52% empty\n"
     ]
    }
   ],
   "source": [
    "undefined_values = umatrix.isna().sum().sum()\n",
    "total_values = umatrix.shape[0] * umatrix.shape[1]\n",
    "\n",
    "sparsity = int(undefined_values / total_values * 10000)\n",
    "print(f\"{sparsity/100.0}% empty\")"
   ],
   "metadata": {
    "collapsed": false,
    "pycharm": {
     "name": "#%%\n"
    }
   }
  },
  {
   "cell_type": "markdown",
   "source": [
    "## Matrix factorization"
   ],
   "metadata": {
    "collapsed": false,
    "pycharm": {
     "name": "#%% md\n"
    }
   }
  },
  {
   "cell_type": "code",
   "execution_count": 538,
   "outputs": [
    {
     "data": {
      "text/plain": "placeID  132560  132561  132564  132572  132583  132584  132594  132608  \\\nuserID                                                                    \n1001        0.0     0.0     0.0     0.0     0.0     0.0     0.0     0.0   \n1002        0.0     0.0     0.0     0.0     0.0     0.0     0.0     0.0   \n1003        0.0     0.0     0.0     0.0     0.0     0.0     0.0     0.0   \n1004        0.0     0.0     0.0     0.0     0.0     0.0     0.0     0.0   \n1005        0.0     0.0     0.0     0.0     0.0     0.0     0.0     0.0   \n...         ...     ...     ...     ...     ...     ...     ...     ...   \n1134        0.0     0.0     0.0     1.0     0.0     0.0     0.0     0.0   \n1135        0.0     0.0     0.0     0.0     0.0     0.0     0.0     0.0   \n1136        0.0     0.0     0.0     0.0     0.0     0.0     0.0     0.0   \n1137        0.0     0.0     0.0     0.0     0.0     0.0     0.0     0.0   \n1138        0.0     0.0     0.0     0.0     0.0     0.0     0.0     0.0   \n\nplaceID  132609  132613  ...  135080  135081  135082  135085  135086  135088  \\\nuserID                   ...                                                   \n1001        0.0     0.0  ...     0.0     0.0     0.0     1.0     0.0     0.0   \n1002        0.0     0.0  ...     0.0     0.0     0.0     2.0     0.0     0.0   \n1003        0.0     0.0  ...     3.0     0.0     0.0     0.0     0.0     0.0   \n1004        0.0     0.0  ...     0.0     0.0     0.0     0.0     0.0     0.0   \n1005        0.0     0.0  ...     0.0     0.0     0.0     0.0     0.0     0.0   \n...         ...     ...  ...     ...     ...     ...     ...     ...     ...   \n1134        0.0     0.0  ...     2.0     0.0     0.0     3.0     0.0     0.0   \n1135        0.0     0.0  ...     0.0     0.0     0.0     1.0     0.0     0.0   \n1136        0.0     0.0  ...     0.0     0.0     0.0     0.0     0.0     0.0   \n1137        0.0     0.0  ...     0.0     0.0     0.0     3.0     0.0     0.0   \n1138        0.0     0.0  ...     0.0     0.0     0.0     0.0     0.0     0.0   \n\nplaceID  135104  135106  135108  135109  \nuserID                                   \n1001        0.0     0.0     0.0     0.0  \n1002        0.0     2.0     0.0     0.0  \n1003        0.0     0.0     0.0     0.0  \n1004        0.0     3.0     0.0     0.0  \n1005        0.0     0.0     0.0     0.0  \n...         ...     ...     ...     ...  \n1134        0.0     0.0     0.0     0.0  \n1135        0.0     1.0     0.0     0.0  \n1136        0.0     0.0     0.0     0.0  \n1137        0.0     0.0     0.0     0.0  \n1138        0.0     0.0     0.0     0.0  \n\n[138 rows x 130 columns]",
      "text/html": "<div>\n<style scoped>\n    .dataframe tbody tr th:only-of-type {\n        vertical-align: middle;\n    }\n\n    .dataframe tbody tr th {\n        vertical-align: top;\n    }\n\n    .dataframe thead th {\n        text-align: right;\n    }\n</style>\n<table border=\"1\" class=\"dataframe\">\n  <thead>\n    <tr style=\"text-align: right;\">\n      <th>placeID</th>\n      <th>132560</th>\n      <th>132561</th>\n      <th>132564</th>\n      <th>132572</th>\n      <th>132583</th>\n      <th>132584</th>\n      <th>132594</th>\n      <th>132608</th>\n      <th>132609</th>\n      <th>132613</th>\n      <th>...</th>\n      <th>135080</th>\n      <th>135081</th>\n      <th>135082</th>\n      <th>135085</th>\n      <th>135086</th>\n      <th>135088</th>\n      <th>135104</th>\n      <th>135106</th>\n      <th>135108</th>\n      <th>135109</th>\n    </tr>\n    <tr>\n      <th>userID</th>\n      <th></th>\n      <th></th>\n      <th></th>\n      <th></th>\n      <th></th>\n      <th></th>\n      <th></th>\n      <th></th>\n      <th></th>\n      <th></th>\n      <th></th>\n      <th></th>\n      <th></th>\n      <th></th>\n      <th></th>\n      <th></th>\n      <th></th>\n      <th></th>\n      <th></th>\n      <th></th>\n      <th></th>\n    </tr>\n  </thead>\n  <tbody>\n    <tr>\n      <th>1001</th>\n      <td>0.0</td>\n      <td>0.0</td>\n      <td>0.0</td>\n      <td>0.0</td>\n      <td>0.0</td>\n      <td>0.0</td>\n      <td>0.0</td>\n      <td>0.0</td>\n      <td>0.0</td>\n      <td>0.0</td>\n      <td>...</td>\n      <td>0.0</td>\n      <td>0.0</td>\n      <td>0.0</td>\n      <td>1.0</td>\n      <td>0.0</td>\n      <td>0.0</td>\n      <td>0.0</td>\n      <td>0.0</td>\n      <td>0.0</td>\n      <td>0.0</td>\n    </tr>\n    <tr>\n      <th>1002</th>\n      <td>0.0</td>\n      <td>0.0</td>\n      <td>0.0</td>\n      <td>0.0</td>\n      <td>0.0</td>\n      <td>0.0</td>\n      <td>0.0</td>\n      <td>0.0</td>\n      <td>0.0</td>\n      <td>0.0</td>\n      <td>...</td>\n      <td>0.0</td>\n      <td>0.0</td>\n      <td>0.0</td>\n      <td>2.0</td>\n      <td>0.0</td>\n      <td>0.0</td>\n      <td>0.0</td>\n      <td>2.0</td>\n      <td>0.0</td>\n      <td>0.0</td>\n    </tr>\n    <tr>\n      <th>1003</th>\n      <td>0.0</td>\n      <td>0.0</td>\n      <td>0.0</td>\n      <td>0.0</td>\n      <td>0.0</td>\n      <td>0.0</td>\n      <td>0.0</td>\n      <td>0.0</td>\n      <td>0.0</td>\n      <td>0.0</td>\n      <td>...</td>\n      <td>3.0</td>\n      <td>0.0</td>\n      <td>0.0</td>\n      <td>0.0</td>\n      <td>0.0</td>\n      <td>0.0</td>\n      <td>0.0</td>\n      <td>0.0</td>\n      <td>0.0</td>\n      <td>0.0</td>\n    </tr>\n    <tr>\n      <th>1004</th>\n      <td>0.0</td>\n      <td>0.0</td>\n      <td>0.0</td>\n      <td>0.0</td>\n      <td>0.0</td>\n      <td>0.0</td>\n      <td>0.0</td>\n      <td>0.0</td>\n      <td>0.0</td>\n      <td>0.0</td>\n      <td>...</td>\n      <td>0.0</td>\n      <td>0.0</td>\n      <td>0.0</td>\n      <td>0.0</td>\n      <td>0.0</td>\n      <td>0.0</td>\n      <td>0.0</td>\n      <td>3.0</td>\n      <td>0.0</td>\n      <td>0.0</td>\n    </tr>\n    <tr>\n      <th>1005</th>\n      <td>0.0</td>\n      <td>0.0</td>\n      <td>0.0</td>\n      <td>0.0</td>\n      <td>0.0</td>\n      <td>0.0</td>\n      <td>0.0</td>\n      <td>0.0</td>\n      <td>0.0</td>\n      <td>0.0</td>\n      <td>...</td>\n      <td>0.0</td>\n      <td>0.0</td>\n      <td>0.0</td>\n      <td>0.0</td>\n      <td>0.0</td>\n      <td>0.0</td>\n      <td>0.0</td>\n      <td>0.0</td>\n      <td>0.0</td>\n      <td>0.0</td>\n    </tr>\n    <tr>\n      <th>...</th>\n      <td>...</td>\n      <td>...</td>\n      <td>...</td>\n      <td>...</td>\n      <td>...</td>\n      <td>...</td>\n      <td>...</td>\n      <td>...</td>\n      <td>...</td>\n      <td>...</td>\n      <td>...</td>\n      <td>...</td>\n      <td>...</td>\n      <td>...</td>\n      <td>...</td>\n      <td>...</td>\n      <td>...</td>\n      <td>...</td>\n      <td>...</td>\n      <td>...</td>\n      <td>...</td>\n    </tr>\n    <tr>\n      <th>1134</th>\n      <td>0.0</td>\n      <td>0.0</td>\n      <td>0.0</td>\n      <td>1.0</td>\n      <td>0.0</td>\n      <td>0.0</td>\n      <td>0.0</td>\n      <td>0.0</td>\n      <td>0.0</td>\n      <td>0.0</td>\n      <td>...</td>\n      <td>2.0</td>\n      <td>0.0</td>\n      <td>0.0</td>\n      <td>3.0</td>\n      <td>0.0</td>\n      <td>0.0</td>\n      <td>0.0</td>\n      <td>0.0</td>\n      <td>0.0</td>\n      <td>0.0</td>\n    </tr>\n    <tr>\n      <th>1135</th>\n      <td>0.0</td>\n      <td>0.0</td>\n      <td>0.0</td>\n      <td>0.0</td>\n      <td>0.0</td>\n      <td>0.0</td>\n      <td>0.0</td>\n      <td>0.0</td>\n      <td>0.0</td>\n      <td>0.0</td>\n      <td>...</td>\n      <td>0.0</td>\n      <td>0.0</td>\n      <td>0.0</td>\n      <td>1.0</td>\n      <td>0.0</td>\n      <td>0.0</td>\n      <td>0.0</td>\n      <td>1.0</td>\n      <td>0.0</td>\n      <td>0.0</td>\n    </tr>\n    <tr>\n      <th>1136</th>\n      <td>0.0</td>\n      <td>0.0</td>\n      <td>0.0</td>\n      <td>0.0</td>\n      <td>0.0</td>\n      <td>0.0</td>\n      <td>0.0</td>\n      <td>0.0</td>\n      <td>0.0</td>\n      <td>0.0</td>\n      <td>...</td>\n      <td>0.0</td>\n      <td>0.0</td>\n      <td>0.0</td>\n      <td>0.0</td>\n      <td>0.0</td>\n      <td>0.0</td>\n      <td>0.0</td>\n      <td>0.0</td>\n      <td>0.0</td>\n      <td>0.0</td>\n    </tr>\n    <tr>\n      <th>1137</th>\n      <td>0.0</td>\n      <td>0.0</td>\n      <td>0.0</td>\n      <td>0.0</td>\n      <td>0.0</td>\n      <td>0.0</td>\n      <td>0.0</td>\n      <td>0.0</td>\n      <td>0.0</td>\n      <td>0.0</td>\n      <td>...</td>\n      <td>0.0</td>\n      <td>0.0</td>\n      <td>0.0</td>\n      <td>3.0</td>\n      <td>0.0</td>\n      <td>0.0</td>\n      <td>0.0</td>\n      <td>0.0</td>\n      <td>0.0</td>\n      <td>0.0</td>\n    </tr>\n    <tr>\n      <th>1138</th>\n      <td>0.0</td>\n      <td>0.0</td>\n      <td>0.0</td>\n      <td>0.0</td>\n      <td>0.0</td>\n      <td>0.0</td>\n      <td>0.0</td>\n      <td>0.0</td>\n      <td>0.0</td>\n      <td>0.0</td>\n      <td>...</td>\n      <td>0.0</td>\n      <td>0.0</td>\n      <td>0.0</td>\n      <td>0.0</td>\n      <td>0.0</td>\n      <td>0.0</td>\n      <td>0.0</td>\n      <td>0.0</td>\n      <td>0.0</td>\n      <td>0.0</td>\n    </tr>\n  </tbody>\n</table>\n<p>138 rows × 130 columns</p>\n</div>"
     },
     "execution_count": 538,
     "metadata": {},
     "output_type": "execute_result"
    }
   ],
   "source": [
    "# Replace NaN with 0\n",
    "umatrix.fillna(0, inplace=True)\n",
    "\n",
    "umatrix"
   ],
   "metadata": {
    "collapsed": false,
    "pycharm": {
     "name": "#%%\n"
    }
   }
  },
  {
   "cell_type": "markdown",
   "source": [
    "## Helper functions\n",
    "Cosine similarity $ similarity = cos(0) = \\frac{A \\cdot B}{|{A}||{B}|}$ the only related Linear Algebra concept that I actually understand and can write myself"
   ],
   "metadata": {
    "collapsed": false,
    "pycharm": {
     "name": "#%% md\n"
    }
   }
  },
  {
   "cell_type": "code",
   "execution_count": 539,
   "outputs": [],
   "source": [
    "def cos_similarity(u, v):\n",
    "    dot_product = np.dot(u, v)\n",
    "    return dot_product / np.linalg.norm(u) * np.linalg.norm(v)"
   ],
   "metadata": {
    "collapsed": false,
    "pycharm": {
     "name": "#%%\n"
    }
   }
  },
  {
   "cell_type": "code",
   "execution_count": 540,
   "outputs": [],
   "source": [
    "def find_similar(user_id, util_matrix):\n",
    "    \"\"\"\n",
    "    Courtesy of\n",
    "    https://machinelearningmastery.com/using-singular-value-decomposition-to-build-a-recommender-system/\n",
    "    minor changes made\n",
    "    \"\"\"\n",
    "\n",
    "    # Factorize using Numpy SVD\n",
    "    u, s, v = np.linalg.svd(util_matrix, full_matrices=False)\n",
    "\n",
    "    # Get index of userID\n",
    "    reset_index = util_matrix.reset_index()\n",
    "    index_to_user = reset_index.copy()[\"userID\"]\n",
    "    target = reset_index[reset_index[\"userID\"] == user_id].index.values\n",
    "\n",
    "    for i in range(0, util_matrix.shape[0]):\n",
    "        if util_matrix.iloc[i].name == user_id:\n",
    "            target = i\n",
    "\n",
    "    highest_similarity = -np.inf\n",
    "    highest_sim_col = -1\n",
    "    # Iterate through columns\n",
    "    for col in range(0,v.shape[0]):\n",
    "        if col == target:\n",
    "            continue\n",
    "\n",
    "        # Get the similarity of the target col and current\n",
    "        similarity = cos_similarity(v[target], v[col])\n",
    "        if similarity > highest_similarity:\n",
    "            highest_similarity = similarity\n",
    "            highest_sim_col = col\n",
    "    return index_to_user[highest_sim_col]"
   ],
   "metadata": {
    "collapsed": false,
    "pycharm": {
     "name": "#%%\n"
    }
   }
  },
  {
   "cell_type": "code",
   "execution_count": 541,
   "outputs": [
    {
     "name": "stdout",
     "output_type": "stream",
     "text": [
      "most similar user 1129\n"
     ]
    }
   ],
   "source": [
    "most_similar = find_similar(1002, umatrix)\n",
    "print(\"most similar user %s\" % most_similar)"
   ],
   "metadata": {
    "collapsed": false,
    "pycharm": {
     "name": "#%%\n"
    }
   }
  },
  {
   "cell_type": "code",
   "execution_count": 542,
   "outputs": [],
   "source": [
    "class Recommender:\n",
    "\n",
    "    def __init__(self, util_matrix):\n",
    "        self.util_matrix = util_matrix\n",
    "        self.max_recommendations = 5\n",
    "\n",
    "    def cf_recommend(self, user_id):\n",
    "        \"\"\"\n",
    "        :param user_id: id of the user to recommend to\n",
    "        :return: set of recommendations\n",
    "        \"\"\"\n",
    "        recommendations_ = list()\n",
    "\n",
    "        # Find most similar user\n",
    "        most_similar_user = find_similar(user_id, self.util_matrix)\n",
    "\n",
    "        # Get rows for both, a bit hacky but n-th user has the id n + 1001\n",
    "        user_row    = self.util_matrix.loc[user_id].values.flatten().tolist()\n",
    "        similar_row = self.util_matrix.loc[most_similar_user].values.flatten().tolist()\n",
    "\n",
    "        # Loop through rows 3 times\n",
    "        for i in range(0,3):\n",
    "            for j in range(0,len(user_row)):\n",
    "                # Append to list according to the following rules:\n",
    "                # 1. If user row cell j already contains values, we should not recommend\n",
    "                # 2. First append the items with greatest reviews, this is why we loop 3 times\n",
    "                if user_row[j] == 0 and similar_row[j] > (3-i):\n",
    "                    recommendations_.append(j)\n",
    "\n",
    "        # Truncate recommendation list\n",
    "        recommendations_ = recommendations_[0:self.max_recommendations]\n",
    "        return recommendations_"
   ],
   "metadata": {
    "collapsed": false,
    "pycharm": {
     "name": "#%%\n"
    }
   }
  },
  {
   "cell_type": "markdown",
   "source": [
    "Some users don't get recommendations"
   ],
   "metadata": {
    "collapsed": false,
    "pycharm": {
     "name": "#%% md\n"
    }
   }
  },
  {
   "cell_type": "code",
   "execution_count": 543,
   "outputs": [
    {
     "name": "stdout",
     "output_type": "stream",
     "text": [
      "[]\n"
     ]
    }
   ],
   "source": [
    "recommender = Recommender(umatrix)\n",
    "recommendations = recommender.cf_recommend(1063)\n",
    "print(recommendations)"
   ],
   "metadata": {
    "collapsed": false,
    "pycharm": {
     "name": "#%%\n"
    }
   }
  },
  {
   "cell_type": "markdown",
   "source": [
    "I'm not sure what causes this, but it might be a symptom of the greedy way the algorithm above picks the most similar user. A perfect match (cosine similarity of 1) would mean there's nothing to recommend\n",
    "because both users have rated the exact same places exactly the same. Even if the rating isn't exact, as long as both have reviewed the same places, there is no recommendation done.\n",
    "\n",
    "A less similar user could l be close enough to make good recommendations, but still differ, making recommendations."
   ],
   "metadata": {
    "collapsed": false,
    "pycharm": {
     "name": "#%% md\n"
    }
   }
  },
  {
   "cell_type": "markdown",
   "source": [
    "## Cascade recommender\n",
    "My initial idea was to tackle the cold start problem of collaborative filtering, by augmenting the users row with content based recommendations if a user only had a 1-3 reviews.\n",
    "\n",
    "But after finally getting my recommender to work a week before the deadline I decieded this would be too difficult.\n",
    "\n",
    "I still wanted to implement some sort of hybrid recommender and found the Cascade model to work well for what I so far had made.\n",
    "\n",
    "![Graph for Cascade hybrid recommender](cascade.jpeg \"Cascade hybrid recommender\")\n",
    "courtesy of: https://medium.com/analytics-vidhya/7-types-of-hybrid-recommendation-system-3e4f78266ad8\n",
    "\n",
    "The idea is simple: Switch RS given a certain state or condition. As I discovered that some rows don't get any recommendations, it would be nice to have a \"backup\" RS.\n",
    "\n",
    "Innitially I thought this was a switching model, but I realized that the switching happens after an initial recommendation, making this in fact a Cascade hybrid (or close to atleast).\n",
    "\n",
    "# THE FOLLOWING BLOCK CONTAINS THE SAME CODE AS `rs.ipynb`, IT'S ONLY HERE BECAUSE THIS WOULD BE MORE PORTABLE THAN IMPORTING A LIBRARY TO IMPORT NOTEBOOK FILES INTO OTHERS"
   ],
   "metadata": {
    "collapsed": false,
    "pycharm": {
     "name": "#%% md\n"
    }
   }
  },
  {
   "cell_type": "code",
   "execution_count": 544,
   "outputs": [],
   "source": [
    "data = pd.read_csv(\"geoplaces2.csv\", sep=\";\")\n",
    "# Remove unwanted features\n",
    "data = data[[\"placeID\", \"alcohol\", \"smoking_area\", \"dress_code\", \"price\", \"ambience\"]]\n",
    "from sklearn.preprocessing import LabelEncoder\n",
    "\n",
    "# One hot encoding for smoking area\n",
    "data.join(pd.get_dummies(data[\"smoking_area\"], prefix='smoking_area', columns=[\"no_smoking\"]))\n",
    "\n",
    "# Label encoding for alcohol\n",
    "alcoholEncoder = LabelEncoder()\n",
    "alcoholEncoder.fit([\"no_alcohol\", \"wine_beer\", \"full_bar\"])\n",
    "data[\"alcohol\"] = alcoholEncoder.transform(data[\"alcohol\"])\n",
    "\n",
    "# Label encoding for smoking area\n",
    "smokingEncoder = LabelEncoder()\n",
    "smokingEncoder.fit([\"none\", \"area\", \"bar\", \"permitted\"])\n",
    "data[\"smoking_area\"] = smokingEncoder.transform(data[\"smoking_area\"])\n",
    "\n",
    "# Label encoding for dress code\n",
    "dressEncoder = LabelEncoder()\n",
    "dressEncoder.fit([\"casual\", \"informal\", \"formal\"])\n",
    "data[\"dress_code\"] = dressEncoder.transform(data[\"dress_code\"])\n",
    "\n",
    "# Label encoding for price\n",
    "priceEncoder = LabelEncoder()\n",
    "priceEncoder.fit([\"low\", \"medium\", \"high\"])\n",
    "data[\"price\"] = priceEncoder.transform(data[\"price\"])\n",
    "\n",
    "# Label encoding for ambience\n",
    "ambienceEncoder = LabelEncoder()\n",
    "ambienceEncoder.fit([\"quiet\", \"familiar\"])\n",
    "data[\"ambience\"] = ambienceEncoder.transform(data[\"ambience\"])\n",
    "def find_similar_places(df, place_id, max_error):\n",
    "    matches = []\n",
    "    # Get first row with matching placeID\n",
    "    target_row = df[df['placeID'] == place_id].iloc[0]\n",
    "    for index, row in df.iterrows():\n",
    "\n",
    "        # Assert that everything is the same length\n",
    "        if len(row) != len(target_row):\n",
    "            return []\n",
    "\n",
    "        # Skip self\n",
    "        if row[\"placeID\"] == place_id:\n",
    "            continue\n",
    "\n",
    "        sigma = 0\n",
    "        # Add values\n",
    "        for idx, dp in enumerate(target_row):\n",
    "            # Skip placeID\n",
    "            if idx == 0:\n",
    "                continue\n",
    "\n",
    "            error = abs(target_row[idx] - row[idx])\n",
    "            sigma += error\n",
    "\n",
    "        # Append rows that do not differ\n",
    "        if sigma < max_error:\n",
    "            matches.append(row)\n",
    "\n",
    "    return matches"
   ],
   "metadata": {
    "collapsed": false,
    "pycharm": {
     "name": "#%%\n"
    }
   }
  },
  {
   "cell_type": "markdown",
   "source": [
    "# Finishing up the Cascade recommender\n",
    "Here I'm inheriting the original Recommender, and initializing it. It then attempts a recommendation with the parent Recommender, if this returns an empty list, it uses the content based recommender instead"
   ],
   "metadata": {
    "collapsed": false,
    "pycharm": {
     "name": "#%% md\n"
    }
   }
  },
  {
   "cell_type": "code",
   "execution_count": 545,
   "outputs": [],
   "source": [
    "class CascadeRecommender(Recommender):\n",
    "    def __init__(self, util_matrix):\n",
    "        super().__init__(util_matrix)\n",
    "\n",
    "    def recommend(self, user_id):\n",
    "        all_place_ids = self.util_matrix.columns.values.tolist()\n",
    "        recs = Recommender.cf_recommend(self, user_id)\n",
    "        # Switch to content based recommender if collaborative did not return anything\n",
    "        selected_recs = []\n",
    "        if len(recs) == 0:\n",
    "            # Get user row\n",
    "            user_row = self.util_matrix.loc[user_id].values.flatten().tolist()\n",
    "\n",
    "            # Get indeces of non-zero values, i.e. places rated by user\n",
    "            indeces = [i for i, e in enumerate(user_row) if e != 0]\n",
    "\n",
    "            # Find entry with highest rating\n",
    "            highest_rating = 0\n",
    "            highest_rated_place = 0\n",
    "\n",
    "            # Find index of highest rated place by user, we don't want to make content based recommendations on items the user didn't like\n",
    "            for i in indeces:\n",
    "                if user_row[i] > highest_rating:\n",
    "                    highest_rated_place = i\n",
    "                    highest_rating = user_row[i]\n",
    "\n",
    "            # Use content based recommender\n",
    "            selected_recs = find_similar_places(data, all_place_ids[highest_rated_place], 1)\n",
    "\n",
    "            # In this implementation we don't care about specifics of the places, omit everything but placeID\n",
    "            selected_recs = [i[\"placeID\"] for i in selected_recs]\n",
    "\n",
    "            # Truncate recommendation list\n",
    "            selected_recs = selected_recs[0:self.max_recommendations]\n",
    "        else:\n",
    "            selected_recs = list()\n",
    "            for i in recs:\n",
    "                selected_recs.append(all_place_ids[i])\n",
    "\n",
    "        return selected_recs"
   ],
   "metadata": {
    "collapsed": false,
    "pycharm": {
     "name": "#%%\n"
    }
   }
  },
  {
   "cell_type": "code",
   "execution_count": 530,
   "outputs": [
    {
     "name": "stdout",
     "output_type": "stream",
     "text": [
      "[134999, 135082, 135070, 135086, 135042]\n"
     ]
    }
   ],
   "source": [
    "hybrid = CascadeRecommender(umatrix)\n",
    "print(hybrid.recommend(1063))"
   ],
   "metadata": {
    "collapsed": false,
    "pycharm": {
     "name": "#%%\n"
    }
   }
  },
  {
   "cell_type": "markdown",
   "source": [
    "# Summary\n",
    "Here I have created a recommender system that creates a utility matrix and factorizes it. It then checks for similarity between the hidden features of V and returns the closest ones.\n",
    "\n",
    "A Recommender class serves as an interface for the collaborative RS, nicely only taking the utility matrix as a parameter at initialization. It's then inherited by a CascadeRecommender class that can switch over to content recommendation, in case the collaborative RS fails to make a recommendation."
   ],
   "metadata": {
    "collapsed": false,
    "pycharm": {
     "name": "#%% md\n"
    }
   }
  },
  {
   "cell_type": "code",
   "execution_count": null,
   "outputs": [],
   "source": [],
   "metadata": {
    "collapsed": false,
    "pycharm": {
     "name": "#%%\n"
    }
   }
  }
 ],
 "metadata": {
  "kernelspec": {
   "display_name": "Python 3",
   "language": "python",
   "name": "python3"
  },
  "language_info": {
   "codemirror_mode": {
    "name": "ipython",
    "version": 2
   },
   "file_extension": ".py",
   "mimetype": "text/x-python",
   "name": "python",
   "nbconvert_exporter": "python",
   "pygments_lexer": "ipython2",
   "version": "2.7.6"
  }
 },
 "nbformat": 4,
 "nbformat_minor": 0
}