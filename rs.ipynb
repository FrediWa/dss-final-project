{
 "cells": [
  {
   "cell_type": "code",
   "execution_count": 1,
   "metadata": {
    "collapsed": true
   },
   "outputs": [],
   "source": [
    "import pandas as pd"
   ]
  },
  {
   "cell_type": "markdown",
   "source": [
    "# Simple Recommender\n",
    "## Memory based Item-Based"
   ],
   "metadata": {
    "collapsed": false,
    "pycharm": {
     "name": "#%% md\n"
    }
   }
  },
  {
   "cell_type": "code",
   "execution_count": 5,
   "outputs": [
    {
     "data": {
      "text/plain": "   placeID   latitude   longitude  \\\n0   134999  18.915421  -99.184871   \n1   132825  22.147392 -100.983092   \n2   135106  22.149709 -100.976093   \n3   132667  23.752697  -99.163359   \n4   132613  23.752903  -99.165076   \n\n                                      the_geom_meter  \\\n0  0101000020957F000088568DE356715AC138C0A525FC46...   \n1  0101000020957F00001AD016568C4858C1243261274BA5...   \n2  0101000020957F0000649D6F21634858C119AE9BF528A3...   \n3  0101000020957F00005D67BCDDED8157C1222A2DC8D84D...   \n4  0101000020957F00008EBA2D06DC8157C194E03B7B504E...   \n\n                             name                                 address  \\\n0                 Kiku Cuernavaca                              Revolucion   \n1                 puesto de tacos  esquina santos degollado y leon guzman   \n2      El Rinc�n de San Francisco                         Universidad 169   \n3  little pizza Emilio Portes Gil                 calle emilio portes gil   \n4                   carnitas_mata                  lic. Emilio portes gil   \n\n              city            state country fax  ...            alcohol  \\\n0       Cuernavaca          Morelos  Mexico   ?  ...  No_Alcohol_Served   \n1           s.l.p.           s.l.p.  mexico   ?  ...  No_Alcohol_Served   \n2  San Luis Potosi  San Luis Potosi  Mexico   ?  ...          Wine-Beer   \n3        victoria        tamaulipas       ?   ?  ...  No_Alcohol_Served   \n4         victoria       Tamaulipas  Mexico   ?  ...  No_Alcohol_Served   \n\n  smoking_area dress_code     accessibility   price                    url  \\\n0         none   informal  no_accessibility  medium  kikucuernavaca.com.mx   \n1         none   informal        completely     low                      ?   \n2  only at bar   informal         partially  medium                      ?   \n3         none   informal        completely     low                      ?   \n4    permitted   informal        completely  medium                      ?   \n\n  Rambience franchise    area other_services  \n0  familiar         f  closed           none  \n1  familiar         f    open           none  \n2  familiar         f    open           none  \n3  familiar         t  closed           none  \n4  familiar         t  closed           none  \n\n[5 rows x 21 columns]",
      "text/html": "<div>\n<style scoped>\n    .dataframe tbody tr th:only-of-type {\n        vertical-align: middle;\n    }\n\n    .dataframe tbody tr th {\n        vertical-align: top;\n    }\n\n    .dataframe thead th {\n        text-align: right;\n    }\n</style>\n<table border=\"1\" class=\"dataframe\">\n  <thead>\n    <tr style=\"text-align: right;\">\n      <th></th>\n      <th>placeID</th>\n      <th>latitude</th>\n      <th>longitude</th>\n      <th>the_geom_meter</th>\n      <th>name</th>\n      <th>address</th>\n      <th>city</th>\n      <th>state</th>\n      <th>country</th>\n      <th>fax</th>\n      <th>...</th>\n      <th>alcohol</th>\n      <th>smoking_area</th>\n      <th>dress_code</th>\n      <th>accessibility</th>\n      <th>price</th>\n      <th>url</th>\n      <th>Rambience</th>\n      <th>franchise</th>\n      <th>area</th>\n      <th>other_services</th>\n    </tr>\n  </thead>\n  <tbody>\n    <tr>\n      <th>0</th>\n      <td>134999</td>\n      <td>18.915421</td>\n      <td>-99.184871</td>\n      <td>0101000020957F000088568DE356715AC138C0A525FC46...</td>\n      <td>Kiku Cuernavaca</td>\n      <td>Revolucion</td>\n      <td>Cuernavaca</td>\n      <td>Morelos</td>\n      <td>Mexico</td>\n      <td>?</td>\n      <td>...</td>\n      <td>No_Alcohol_Served</td>\n      <td>none</td>\n      <td>informal</td>\n      <td>no_accessibility</td>\n      <td>medium</td>\n      <td>kikucuernavaca.com.mx</td>\n      <td>familiar</td>\n      <td>f</td>\n      <td>closed</td>\n      <td>none</td>\n    </tr>\n    <tr>\n      <th>1</th>\n      <td>132825</td>\n      <td>22.147392</td>\n      <td>-100.983092</td>\n      <td>0101000020957F00001AD016568C4858C1243261274BA5...</td>\n      <td>puesto de tacos</td>\n      <td>esquina santos degollado y leon guzman</td>\n      <td>s.l.p.</td>\n      <td>s.l.p.</td>\n      <td>mexico</td>\n      <td>?</td>\n      <td>...</td>\n      <td>No_Alcohol_Served</td>\n      <td>none</td>\n      <td>informal</td>\n      <td>completely</td>\n      <td>low</td>\n      <td>?</td>\n      <td>familiar</td>\n      <td>f</td>\n      <td>open</td>\n      <td>none</td>\n    </tr>\n    <tr>\n      <th>2</th>\n      <td>135106</td>\n      <td>22.149709</td>\n      <td>-100.976093</td>\n      <td>0101000020957F0000649D6F21634858C119AE9BF528A3...</td>\n      <td>El Rinc�n de San Francisco</td>\n      <td>Universidad 169</td>\n      <td>San Luis Potosi</td>\n      <td>San Luis Potosi</td>\n      <td>Mexico</td>\n      <td>?</td>\n      <td>...</td>\n      <td>Wine-Beer</td>\n      <td>only at bar</td>\n      <td>informal</td>\n      <td>partially</td>\n      <td>medium</td>\n      <td>?</td>\n      <td>familiar</td>\n      <td>f</td>\n      <td>open</td>\n      <td>none</td>\n    </tr>\n    <tr>\n      <th>3</th>\n      <td>132667</td>\n      <td>23.752697</td>\n      <td>-99.163359</td>\n      <td>0101000020957F00005D67BCDDED8157C1222A2DC8D84D...</td>\n      <td>little pizza Emilio Portes Gil</td>\n      <td>calle emilio portes gil</td>\n      <td>victoria</td>\n      <td>tamaulipas</td>\n      <td>?</td>\n      <td>?</td>\n      <td>...</td>\n      <td>No_Alcohol_Served</td>\n      <td>none</td>\n      <td>informal</td>\n      <td>completely</td>\n      <td>low</td>\n      <td>?</td>\n      <td>familiar</td>\n      <td>t</td>\n      <td>closed</td>\n      <td>none</td>\n    </tr>\n    <tr>\n      <th>4</th>\n      <td>132613</td>\n      <td>23.752903</td>\n      <td>-99.165076</td>\n      <td>0101000020957F00008EBA2D06DC8157C194E03B7B504E...</td>\n      <td>carnitas_mata</td>\n      <td>lic. Emilio portes gil</td>\n      <td>victoria</td>\n      <td>Tamaulipas</td>\n      <td>Mexico</td>\n      <td>?</td>\n      <td>...</td>\n      <td>No_Alcohol_Served</td>\n      <td>permitted</td>\n      <td>informal</td>\n      <td>completely</td>\n      <td>medium</td>\n      <td>?</td>\n      <td>familiar</td>\n      <td>t</td>\n      <td>closed</td>\n      <td>none</td>\n    </tr>\n  </tbody>\n</table>\n<p>5 rows × 21 columns</p>\n</div>"
     },
     "execution_count": 5,
     "metadata": {},
     "output_type": "execute_result"
    }
   ],
   "source": [
    "data = pd.read_csv(\"geoplaces2.csv\")\n",
    "data.head()"
   ],
   "metadata": {
    "collapsed": false,
    "pycharm": {
     "name": "#%%\n"
    }
   }
  },
  {
   "cell_type": "code",
   "execution_count": 6,
   "outputs": [
    {
     "name": "stdout",
     "output_type": "stream",
     "text": [
      "<class 'pandas.core.frame.DataFrame'>\n",
      "RangeIndex: 130 entries, 0 to 129\n",
      "Data columns (total 21 columns):\n",
      " #   Column          Non-Null Count  Dtype  \n",
      "---  ------          --------------  -----  \n",
      " 0   placeID         130 non-null    int64  \n",
      " 1   latitude        130 non-null    float64\n",
      " 2   longitude       130 non-null    float64\n",
      " 3   the_geom_meter  130 non-null    object \n",
      " 4   name            130 non-null    object \n",
      " 5   address         130 non-null    object \n",
      " 6   city            130 non-null    object \n",
      " 7   state           130 non-null    object \n",
      " 8   country         130 non-null    object \n",
      " 9   fax             130 non-null    object \n",
      " 10  zip             130 non-null    object \n",
      " 11  alcohol         130 non-null    object \n",
      " 12  smoking_area    130 non-null    object \n",
      " 13  dress_code      130 non-null    object \n",
      " 14  accessibility   130 non-null    object \n",
      " 15  price           130 non-null    object \n",
      " 16  url             130 non-null    object \n",
      " 17  Rambience       130 non-null    object \n",
      " 18  franchise       130 non-null    object \n",
      " 19  area            130 non-null    object \n",
      " 20  other_services  130 non-null    object \n",
      "dtypes: float64(2), int64(1), object(18)\n",
      "memory usage: 21.5+ KB\n"
     ]
    }
   ],
   "source": [
    "data.info()"
   ],
   "metadata": {
    "collapsed": false,
    "pycharm": {
     "name": "#%%\n"
    }
   }
  },
  {
   "cell_type": "markdown",
   "source": [
    "# Feature Augment RS"
   ],
   "metadata": {
    "collapsed": false,
    "pycharm": {
     "name": "#%% md\n"
    }
   }
  },
  {
   "cell_type": "code",
   "execution_count": null,
   "outputs": [],
   "source": [],
   "metadata": {
    "collapsed": false,
    "pycharm": {
     "name": "#%%\n"
    }
   }
  }
 ],
 "metadata": {
  "kernelspec": {
   "display_name": "Python 3",
   "language": "python",
   "name": "python3"
  },
  "language_info": {
   "codemirror_mode": {
    "name": "ipython",
    "version": 2
   },
   "file_extension": ".py",
   "mimetype": "text/x-python",
   "name": "python",
   "nbconvert_exporter": "python",
   "pygments_lexer": "ipython2",
   "version": "2.7.6"
  }
 },
 "nbformat": 4,
 "nbformat_minor": 0
}