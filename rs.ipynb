{
 "cells": [
  {
   "cell_type": "code",
   "execution_count": 317,
   "metadata": {
    "collapsed": true
   },
   "outputs": [],
   "source": [
    "import pandas as pd"
   ]
  },
  {
   "cell_type": "markdown",
   "source": [
    "# Simple Content based recommender"
   ],
   "metadata": {
    "collapsed": false,
    "pycharm": {
     "name": "#%% md\n"
    }
   }
  },
  {
   "cell_type": "code",
   "execution_count": 321,
   "outputs": [
    {
     "data": {
      "text/plain": "   placeID   latitude   longitude  \\\n0   134999  18.915421  -99.184871   \n1   132825  22.147392 -100.983092   \n2   135106  22.149709 -100.976093   \n3   132667  23.752697  -99.163359   \n4   132613  23.752903  -99.165076   \n\n                                      the_geom_meter  \\\n0  0101000020957F000088568DE356715AC138C0A525FC46...   \n1  0101000020957F00001AD016568C4858C1243261274BA5...   \n2  0101000020957F0000649D6F21634858C119AE9BF528A3...   \n3  0101000020957F00005D67BCDDED8157C1222A2DC8D84D...   \n4  0101000020957F00008EBA2D06DC8157C194E03B7B504E...   \n\n                             name                                 address  \\\n0                 Kiku Cuernavaca                              Revolucion   \n1                 puesto de tacos  esquina santos degollado y leon guzman   \n2      El Rincón de San Francisco                         Universidad 169   \n3  little pizza Emilio Portes Gil                 calle emilio portes gil   \n4                   carnitas_mata                  lic. Emilio portes gil   \n\n              city            state country fax  ...     alcohol smoking_area  \\\n0       Cuernavaca          Morelos  Mexico   ?  ...  no_alcohol         none   \n1           s.l.p.           s.l.p.  mexico   ?  ...  no_alcohol         none   \n2  San Luis Potosi  San Luis Potosi  Mexico   ?  ...   wine_beer          bar   \n3        victoria        tamaulipas       ?   ?  ...  no_alcohol         none   \n4         victoria       Tamaulipas  Mexico   ?  ...  no_alcohol    permitted   \n\n  dress_code     accessibility   price                    url  ambience  \\\n0   informal  no_accessibility  medium  kikucuernavaca.com.mx  familiar   \n1   informal        completely     low                      ?  familiar   \n2   informal         partially  medium                      ?  familiar   \n3   informal        completely     low                      ?  familiar   \n4   informal        completely  medium                      ?  familiar   \n\n  franchise    area other_services  \n0         f  closed           none  \n1         f    open           none  \n2         f    open           none  \n3         t  closed           none  \n4         t  closed           none  \n\n[5 rows x 21 columns]",
      "text/html": "<div>\n<style scoped>\n    .dataframe tbody tr th:only-of-type {\n        vertical-align: middle;\n    }\n\n    .dataframe tbody tr th {\n        vertical-align: top;\n    }\n\n    .dataframe thead th {\n        text-align: right;\n    }\n</style>\n<table border=\"1\" class=\"dataframe\">\n  <thead>\n    <tr style=\"text-align: right;\">\n      <th></th>\n      <th>placeID</th>\n      <th>latitude</th>\n      <th>longitude</th>\n      <th>the_geom_meter</th>\n      <th>name</th>\n      <th>address</th>\n      <th>city</th>\n      <th>state</th>\n      <th>country</th>\n      <th>fax</th>\n      <th>...</th>\n      <th>alcohol</th>\n      <th>smoking_area</th>\n      <th>dress_code</th>\n      <th>accessibility</th>\n      <th>price</th>\n      <th>url</th>\n      <th>ambience</th>\n      <th>franchise</th>\n      <th>area</th>\n      <th>other_services</th>\n    </tr>\n  </thead>\n  <tbody>\n    <tr>\n      <th>0</th>\n      <td>134999</td>\n      <td>18.915421</td>\n      <td>-99.184871</td>\n      <td>0101000020957F000088568DE356715AC138C0A525FC46...</td>\n      <td>Kiku Cuernavaca</td>\n      <td>Revolucion</td>\n      <td>Cuernavaca</td>\n      <td>Morelos</td>\n      <td>Mexico</td>\n      <td>?</td>\n      <td>...</td>\n      <td>no_alcohol</td>\n      <td>none</td>\n      <td>informal</td>\n      <td>no_accessibility</td>\n      <td>medium</td>\n      <td>kikucuernavaca.com.mx</td>\n      <td>familiar</td>\n      <td>f</td>\n      <td>closed</td>\n      <td>none</td>\n    </tr>\n    <tr>\n      <th>1</th>\n      <td>132825</td>\n      <td>22.147392</td>\n      <td>-100.983092</td>\n      <td>0101000020957F00001AD016568C4858C1243261274BA5...</td>\n      <td>puesto de tacos</td>\n      <td>esquina santos degollado y leon guzman</td>\n      <td>s.l.p.</td>\n      <td>s.l.p.</td>\n      <td>mexico</td>\n      <td>?</td>\n      <td>...</td>\n      <td>no_alcohol</td>\n      <td>none</td>\n      <td>informal</td>\n      <td>completely</td>\n      <td>low</td>\n      <td>?</td>\n      <td>familiar</td>\n      <td>f</td>\n      <td>open</td>\n      <td>none</td>\n    </tr>\n    <tr>\n      <th>2</th>\n      <td>135106</td>\n      <td>22.149709</td>\n      <td>-100.976093</td>\n      <td>0101000020957F0000649D6F21634858C119AE9BF528A3...</td>\n      <td>El Rincón de San Francisco</td>\n      <td>Universidad 169</td>\n      <td>San Luis Potosi</td>\n      <td>San Luis Potosi</td>\n      <td>Mexico</td>\n      <td>?</td>\n      <td>...</td>\n      <td>wine_beer</td>\n      <td>bar</td>\n      <td>informal</td>\n      <td>partially</td>\n      <td>medium</td>\n      <td>?</td>\n      <td>familiar</td>\n      <td>f</td>\n      <td>open</td>\n      <td>none</td>\n    </tr>\n    <tr>\n      <th>3</th>\n      <td>132667</td>\n      <td>23.752697</td>\n      <td>-99.163359</td>\n      <td>0101000020957F00005D67BCDDED8157C1222A2DC8D84D...</td>\n      <td>little pizza Emilio Portes Gil</td>\n      <td>calle emilio portes gil</td>\n      <td>victoria</td>\n      <td>tamaulipas</td>\n      <td>?</td>\n      <td>?</td>\n      <td>...</td>\n      <td>no_alcohol</td>\n      <td>none</td>\n      <td>informal</td>\n      <td>completely</td>\n      <td>low</td>\n      <td>?</td>\n      <td>familiar</td>\n      <td>t</td>\n      <td>closed</td>\n      <td>none</td>\n    </tr>\n    <tr>\n      <th>4</th>\n      <td>132613</td>\n      <td>23.752903</td>\n      <td>-99.165076</td>\n      <td>0101000020957F00008EBA2D06DC8157C194E03B7B504E...</td>\n      <td>carnitas_mata</td>\n      <td>lic. Emilio portes gil</td>\n      <td>victoria</td>\n      <td>Tamaulipas</td>\n      <td>Mexico</td>\n      <td>?</td>\n      <td>...</td>\n      <td>no_alcohol</td>\n      <td>permitted</td>\n      <td>informal</td>\n      <td>completely</td>\n      <td>medium</td>\n      <td>?</td>\n      <td>familiar</td>\n      <td>t</td>\n      <td>closed</td>\n      <td>none</td>\n    </tr>\n  </tbody>\n</table>\n<p>5 rows × 21 columns</p>\n</div>"
     },
     "execution_count": 321,
     "metadata": {},
     "output_type": "execute_result"
    }
   ],
   "source": [
    "data = pd.read_csv(\"geoplaces2.csv\", sep=\";\")\n",
    "data.head()"
   ],
   "metadata": {
    "collapsed": false,
    "pycharm": {
     "name": "#%%\n"
    }
   }
  },
  {
   "cell_type": "code",
   "execution_count": 322,
   "outputs": [
    {
     "data": {
      "text/plain": "     placeID     alcohol smoking_area dress_code   price  ambience\n0     134999  no_alcohol         none   informal  medium  familiar\n1     132825  no_alcohol         none   informal     low  familiar\n2     135106   wine_beer          bar   informal  medium  familiar\n3     132667  no_alcohol         none   informal     low  familiar\n4     132613  no_alcohol    permitted   informal  medium  familiar\n..       ...         ...          ...        ...     ...       ...\n125   132866  no_alcohol         none   informal  medium  familiar\n126   135072  no_alcohol         none   informal  medium  familiar\n127   135109   wine_beer         none   informal  medium     quiet\n128   135019  no_alcohol         none   informal     low  familiar\n129   132877  no_alcohol         none   informal     low  familiar\n\n[130 rows x 6 columns]",
      "text/html": "<div>\n<style scoped>\n    .dataframe tbody tr th:only-of-type {\n        vertical-align: middle;\n    }\n\n    .dataframe tbody tr th {\n        vertical-align: top;\n    }\n\n    .dataframe thead th {\n        text-align: right;\n    }\n</style>\n<table border=\"1\" class=\"dataframe\">\n  <thead>\n    <tr style=\"text-align: right;\">\n      <th></th>\n      <th>placeID</th>\n      <th>alcohol</th>\n      <th>smoking_area</th>\n      <th>dress_code</th>\n      <th>price</th>\n      <th>ambience</th>\n    </tr>\n  </thead>\n  <tbody>\n    <tr>\n      <th>0</th>\n      <td>134999</td>\n      <td>no_alcohol</td>\n      <td>none</td>\n      <td>informal</td>\n      <td>medium</td>\n      <td>familiar</td>\n    </tr>\n    <tr>\n      <th>1</th>\n      <td>132825</td>\n      <td>no_alcohol</td>\n      <td>none</td>\n      <td>informal</td>\n      <td>low</td>\n      <td>familiar</td>\n    </tr>\n    <tr>\n      <th>2</th>\n      <td>135106</td>\n      <td>wine_beer</td>\n      <td>bar</td>\n      <td>informal</td>\n      <td>medium</td>\n      <td>familiar</td>\n    </tr>\n    <tr>\n      <th>3</th>\n      <td>132667</td>\n      <td>no_alcohol</td>\n      <td>none</td>\n      <td>informal</td>\n      <td>low</td>\n      <td>familiar</td>\n    </tr>\n    <tr>\n      <th>4</th>\n      <td>132613</td>\n      <td>no_alcohol</td>\n      <td>permitted</td>\n      <td>informal</td>\n      <td>medium</td>\n      <td>familiar</td>\n    </tr>\n    <tr>\n      <th>...</th>\n      <td>...</td>\n      <td>...</td>\n      <td>...</td>\n      <td>...</td>\n      <td>...</td>\n      <td>...</td>\n    </tr>\n    <tr>\n      <th>125</th>\n      <td>132866</td>\n      <td>no_alcohol</td>\n      <td>none</td>\n      <td>informal</td>\n      <td>medium</td>\n      <td>familiar</td>\n    </tr>\n    <tr>\n      <th>126</th>\n      <td>135072</td>\n      <td>no_alcohol</td>\n      <td>none</td>\n      <td>informal</td>\n      <td>medium</td>\n      <td>familiar</td>\n    </tr>\n    <tr>\n      <th>127</th>\n      <td>135109</td>\n      <td>wine_beer</td>\n      <td>none</td>\n      <td>informal</td>\n      <td>medium</td>\n      <td>quiet</td>\n    </tr>\n    <tr>\n      <th>128</th>\n      <td>135019</td>\n      <td>no_alcohol</td>\n      <td>none</td>\n      <td>informal</td>\n      <td>low</td>\n      <td>familiar</td>\n    </tr>\n    <tr>\n      <th>129</th>\n      <td>132877</td>\n      <td>no_alcohol</td>\n      <td>none</td>\n      <td>informal</td>\n      <td>low</td>\n      <td>familiar</td>\n    </tr>\n  </tbody>\n</table>\n<p>130 rows × 6 columns</p>\n</div>"
     },
     "execution_count": 322,
     "metadata": {},
     "output_type": "execute_result"
    }
   ],
   "source": [
    "# Remove unwanted features\n",
    "data = data[[\"placeID\", \"alcohol\", \"smoking_area\", \"dress_code\", \"price\", \"ambience\"]]\n",
    "data"
   ],
   "metadata": {
    "collapsed": false,
    "pycharm": {
     "name": "#%%\n"
    }
   }
  },
  {
   "cell_type": "markdown",
   "source": [
    "Looking at the data, I believe the different values can be well ordered in the following way:\n",
    "### Smoking\n",
    "none < area < bar < permitted\n",
    "### Dress code\n",
    "casual < informal < formal\n",
    "### Alcohol\n",
    "no < limited < full bar\n",
    "# Price\n",
    "low < medium < high\n",
    "\n",
    "Ambience will also be label encoded. Ambience should be one hot encoded, since there is no real order in ambiances but there are only 2 so it doesn't matter. Difference will be either 0 or 1 in any case."
   ],
   "metadata": {
    "collapsed": false,
    "pycharm": {
     "name": "#%% md\n"
    }
   }
  },
  {
   "cell_type": "code",
   "execution_count": 323,
   "outputs": [
    {
     "data": {
      "text/plain": "     placeID  alcohol  smoking_area  dress_code  price  ambience\n0     134999        1             2           2      2         0\n1     132825        1             2           2      1         0\n2     135106        2             1           2      2         0\n3     132667        1             2           2      1         0\n4     132613        1             3           2      2         0\n..       ...      ...           ...         ...    ...       ...\n125   132866        1             2           2      2         0\n126   135072        1             2           2      2         0\n127   135109        2             2           2      2         1\n128   135019        1             2           2      1         0\n129   132877        1             2           2      1         0\n\n[130 rows x 6 columns]",
      "text/html": "<div>\n<style scoped>\n    .dataframe tbody tr th:only-of-type {\n        vertical-align: middle;\n    }\n\n    .dataframe tbody tr th {\n        vertical-align: top;\n    }\n\n    .dataframe thead th {\n        text-align: right;\n    }\n</style>\n<table border=\"1\" class=\"dataframe\">\n  <thead>\n    <tr style=\"text-align: right;\">\n      <th></th>\n      <th>placeID</th>\n      <th>alcohol</th>\n      <th>smoking_area</th>\n      <th>dress_code</th>\n      <th>price</th>\n      <th>ambience</th>\n    </tr>\n  </thead>\n  <tbody>\n    <tr>\n      <th>0</th>\n      <td>134999</td>\n      <td>1</td>\n      <td>2</td>\n      <td>2</td>\n      <td>2</td>\n      <td>0</td>\n    </tr>\n    <tr>\n      <th>1</th>\n      <td>132825</td>\n      <td>1</td>\n      <td>2</td>\n      <td>2</td>\n      <td>1</td>\n      <td>0</td>\n    </tr>\n    <tr>\n      <th>2</th>\n      <td>135106</td>\n      <td>2</td>\n      <td>1</td>\n      <td>2</td>\n      <td>2</td>\n      <td>0</td>\n    </tr>\n    <tr>\n      <th>3</th>\n      <td>132667</td>\n      <td>1</td>\n      <td>2</td>\n      <td>2</td>\n      <td>1</td>\n      <td>0</td>\n    </tr>\n    <tr>\n      <th>4</th>\n      <td>132613</td>\n      <td>1</td>\n      <td>3</td>\n      <td>2</td>\n      <td>2</td>\n      <td>0</td>\n    </tr>\n    <tr>\n      <th>...</th>\n      <td>...</td>\n      <td>...</td>\n      <td>...</td>\n      <td>...</td>\n      <td>...</td>\n      <td>...</td>\n    </tr>\n    <tr>\n      <th>125</th>\n      <td>132866</td>\n      <td>1</td>\n      <td>2</td>\n      <td>2</td>\n      <td>2</td>\n      <td>0</td>\n    </tr>\n    <tr>\n      <th>126</th>\n      <td>135072</td>\n      <td>1</td>\n      <td>2</td>\n      <td>2</td>\n      <td>2</td>\n      <td>0</td>\n    </tr>\n    <tr>\n      <th>127</th>\n      <td>135109</td>\n      <td>2</td>\n      <td>2</td>\n      <td>2</td>\n      <td>2</td>\n      <td>1</td>\n    </tr>\n    <tr>\n      <th>128</th>\n      <td>135019</td>\n      <td>1</td>\n      <td>2</td>\n      <td>2</td>\n      <td>1</td>\n      <td>0</td>\n    </tr>\n    <tr>\n      <th>129</th>\n      <td>132877</td>\n      <td>1</td>\n      <td>2</td>\n      <td>2</td>\n      <td>1</td>\n      <td>0</td>\n    </tr>\n  </tbody>\n</table>\n<p>130 rows × 6 columns</p>\n</div>"
     },
     "execution_count": 323,
     "metadata": {},
     "output_type": "execute_result"
    }
   ],
   "source": [
    "from sklearn.preprocessing import LabelEncoder\n",
    "\n",
    "# One hot encoding for smoking area\n",
    "data.join(pd.get_dummies(data[\"smoking_area\"], prefix='smoking_area', columns=[\"no_smoking\"]))\n",
    "\n",
    "# Label encoding for alcohol\n",
    "alcoholEncoder = LabelEncoder()\n",
    "alcoholEncoder.fit([\"no_alcohol\", \"wine_beer\", \"full_bar\"])\n",
    "data[\"alcohol\"] = alcoholEncoder.transform(data[\"alcohol\"])\n",
    "\n",
    "# Label encoding for smoking area\n",
    "smokingEncoder = LabelEncoder()\n",
    "smokingEncoder.fit([\"none\", \"area\", \"bar\", \"permitted\"])\n",
    "data[\"smoking_area\"] = smokingEncoder.transform(data[\"smoking_area\"])\n",
    "\n",
    "# Label encoding for dress code\n",
    "dressEncoder = LabelEncoder()\n",
    "dressEncoder.fit([\"casual\", \"informal\", \"formal\"])\n",
    "data[\"dress_code\"] = dressEncoder.transform(data[\"dress_code\"])\n",
    "\n",
    "# Label encoding for price\n",
    "priceEncoder = LabelEncoder()\n",
    "priceEncoder.fit([\"low\", \"medium\", \"high\"])\n",
    "data[\"price\"] = priceEncoder.transform(data[\"price\"])\n",
    "\n",
    "# Label encoding for ambience\n",
    "ambienceEncoder = LabelEncoder()\n",
    "ambienceEncoder.fit([\"quiet\", \"familiar\"])\n",
    "data[\"ambience\"] = ambienceEncoder.transform(data[\"ambience\"])\n",
    "\n",
    "data"
   ],
   "metadata": {
    "collapsed": false,
    "pycharm": {
     "name": "#%%\n"
    }
   }
  },
  {
   "cell_type": "code",
   "execution_count": 323,
   "outputs": [],
   "source": [],
   "metadata": {
    "collapsed": false,
    "pycharm": {
     "name": "#%%\n"
    }
   }
  },
  {
   "cell_type": "code",
   "execution_count": 324,
   "outputs": [],
   "source": [
    "def find_similar_places(df, place_id, max_error):\n",
    "    matches = []\n",
    "    # Get first row with matching placeID\n",
    "    target_row = df[df['placeID'] == place_id].iloc[0]\n",
    "    for index, row in df.iterrows():\n",
    "\n",
    "        # Assert that everything is the same length\n",
    "        if len(row) != len(target_row):\n",
    "            return []\n",
    "\n",
    "        # Skip self\n",
    "        if row[\"placeID\"] == place_id:\n",
    "            continue\n",
    "\n",
    "        sigma = 0\n",
    "        # Add values\n",
    "        for idx, dp in enumerate(target_row):\n",
    "            # Skip placeID\n",
    "            if idx == 0:\n",
    "                continue\n",
    "\n",
    "            error = abs(target_row[idx] - row[idx])\n",
    "            sigma += error\n",
    "\n",
    "        # Append rows that do not differ\n",
    "        if sigma < max_error:\n",
    "            matches.append(row)\n",
    "\n",
    "    return matches"
   ],
   "metadata": {
    "collapsed": false,
    "pycharm": {
     "name": "#%%\n"
    }
   }
  },
  {
   "cell_type": "code",
   "execution_count": 325,
   "outputs": [
    {
     "name": "stdout",
     "output_type": "stream",
     "text": [
      "Found 34 similar places\n"
     ]
    }
   ],
   "source": [
    "placeId = 134999\n",
    "y = find_similar_places(data, placeId, 1)\n",
    "print(\"Found\", len(y), \"similar places\")"
   ],
   "metadata": {
    "collapsed": false,
    "pycharm": {
     "name": "#%%\n"
    }
   }
  },
  {
   "cell_type": "code",
   "execution_count": 326,
   "outputs": [
    {
     "name": "stdout",
     "output_type": "stream",
     "text": [
      "If you liked 134999 you may like one of the following places:\n",
      "135082\n",
      "135070\n",
      "135086\n",
      "135042\n",
      "135025\n",
      "132954\n",
      "135046\n",
      "132869\n",
      "135063\n",
      "135000\n",
      "135034\n",
      "135060\n",
      "135081\n",
      "132845\n",
      "135011\n",
      "135016\n",
      "135044\n",
      "132717\n",
      "132861\n",
      "132706\n",
      "132872\n",
      "132733\n",
      "132755\n",
      "135043\n",
      "135049\n",
      "135075\n",
      "135062\n",
      "135058\n",
      "132754\n",
      "132584\n",
      "135085\n",
      "132626\n",
      "132866\n",
      "135072\n"
     ]
    }
   ],
   "source": [
    "print(\"If you liked\", placeId, \"you may like one of the following places:\")\n",
    "print('\\n'.join(str(x[\"placeID\"]) for x in y))"
   ],
   "metadata": {
    "collapsed": false,
    "pycharm": {
     "name": "#%%\n"
    }
   }
  },
  {
   "cell_type": "code",
   "execution_count": null,
   "outputs": [],
   "source": [],
   "metadata": {
    "collapsed": false,
    "pycharm": {
     "name": "#%%\n"
    }
   }
  }
 ],
 "metadata": {
  "kernelspec": {
   "display_name": "Python 3",
   "language": "python",
   "name": "python3"
  },
  "language_info": {
   "codemirror_mode": {
    "name": "ipython",
    "version": 2
   },
   "file_extension": ".py",
   "mimetype": "text/x-python",
   "name": "python",
   "nbconvert_exporter": "python",
   "pygments_lexer": "ipython2",
   "version": "2.7.6"
  }
 },
 "nbformat": 4,
 "nbformat_minor": 0
}