{
 "cells": [
  {
   "cell_type": "code",
   "execution_count": 1,
   "metadata": {
    "collapsed": true
   },
   "outputs": [],
   "source": [
    "import pandas as pd"
   ]
  },
  {
   "cell_type": "code",
   "execution_count": 15,
   "outputs": [],
   "source": [
    "data = pd.read_csv(\"rating_final.csv\")\n",
    "data = data[[\"userID\", \"placeID\", \"rating\"]]"
   ],
   "metadata": {
    "collapsed": false,
    "pycharm": {
     "name": "#%%\n"
    }
   }
  },
  {
   "cell_type": "code",
   "execution_count": 16,
   "outputs": [
    {
     "data": {
      "text/plain": "   userID  placeID  rating\n0    1077   135085       2\n1    1077   135038       2\n2    1077   132825       2\n3    1077   135060       1\n4    1068   135104       1",
      "text/html": "<div>\n<style scoped>\n    .dataframe tbody tr th:only-of-type {\n        vertical-align: middle;\n    }\n\n    .dataframe tbody tr th {\n        vertical-align: top;\n    }\n\n    .dataframe thead th {\n        text-align: right;\n    }\n</style>\n<table border=\"1\" class=\"dataframe\">\n  <thead>\n    <tr style=\"text-align: right;\">\n      <th></th>\n      <th>userID</th>\n      <th>placeID</th>\n      <th>rating</th>\n    </tr>\n  </thead>\n  <tbody>\n    <tr>\n      <th>0</th>\n      <td>1077</td>\n      <td>135085</td>\n      <td>2</td>\n    </tr>\n    <tr>\n      <th>1</th>\n      <td>1077</td>\n      <td>135038</td>\n      <td>2</td>\n    </tr>\n    <tr>\n      <th>2</th>\n      <td>1077</td>\n      <td>132825</td>\n      <td>2</td>\n    </tr>\n    <tr>\n      <th>3</th>\n      <td>1077</td>\n      <td>135060</td>\n      <td>1</td>\n    </tr>\n    <tr>\n      <th>4</th>\n      <td>1068</td>\n      <td>135104</td>\n      <td>1</td>\n    </tr>\n  </tbody>\n</table>\n</div>"
     },
     "execution_count": 16,
     "metadata": {},
     "output_type": "execute_result"
    }
   ],
   "source": [
    "data.head()"
   ],
   "metadata": {
    "collapsed": false,
    "pycharm": {
     "name": "#%%\n"
    }
   }
  },
  {
   "cell_type": "code",
   "execution_count": 25,
   "outputs": [],
   "source": [
    "# Create the utility matrix\n",
    "umatrix = data.pivot(columns=\"userID\", values=\"rating\")"
   ],
   "metadata": {
    "collapsed": false,
    "pycharm": {
     "name": "#%%\n"
    }
   }
  },
  {
   "cell_type": "code",
   "execution_count": 36,
   "outputs": [
    {
     "name": "stdout",
     "output_type": "stream",
     "text": [
      "99.27% empty\n"
     ]
    }
   ],
   "source": [
    "undefined_values = umatrix.isna().sum().sum()\n",
    "total_values = umatrix.shape[0] * umatrix.shape[1]\n",
    "\n",
    "sparsity = int(undefined_values / total_values * 10000)\n",
    "print(f\"{sparsity/100.0}% empty\")"
   ],
   "metadata": {
    "collapsed": false,
    "pycharm": {
     "name": "#%%\n"
    }
   }
  },
  {
   "cell_type": "markdown",
   "source": [
    "## Hybrid recommender\n",
    "![alt text](feature_augment_graph.jpeg \"Feature augment\")\n",
    "Source: https://medium.com/analytics-vidhya/7-types-of-hybrid-recommendation-system-3e4f78266ad8"
   ],
   "metadata": {
    "collapsed": false,
    "pycharm": {
     "name": "#%% md\n"
    }
   }
  },
  {
   "cell_type": "code",
   "execution_count": null,
   "outputs": [],
   "source": [],
   "metadata": {
    "collapsed": false,
    "pycharm": {
     "name": "#%%\n"
    }
   }
  }
 ],
 "metadata": {
  "kernelspec": {
   "display_name": "Python 3",
   "language": "python",
   "name": "python3"
  },
  "language_info": {
   "codemirror_mode": {
    "name": "ipython",
    "version": 2
   },
   "file_extension": ".py",
   "mimetype": "text/x-python",
   "name": "python",
   "nbconvert_exporter": "python",
   "pygments_lexer": "ipython2",
   "version": "2.7.6"
  }
 },
 "nbformat": 4,
 "nbformat_minor": 0
}