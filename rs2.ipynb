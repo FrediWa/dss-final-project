{
 "cells": [
  {
   "cell_type": "code",
   "execution_count": 323,
   "metadata": {
    "collapsed": true
   },
   "outputs": [],
   "source": [
    "import math\n",
    "\n",
    "import pandas as pd\n",
    "import numpy as np"
   ]
  },
  {
   "cell_type": "code",
   "execution_count": 324,
   "outputs": [],
   "source": [
    "data = pd.read_csv(\"rating_final.csv\", sep=\";\")\n",
    "data = data[[\"userID\", \"placeID\", \"rating\"]]"
   ],
   "metadata": {
    "collapsed": false,
    "pycharm": {
     "name": "#%%\n"
    }
   }
  },
  {
   "cell_type": "code",
   "execution_count": 325,
   "outputs": [
    {
     "data": {
      "text/plain": "    userID  placeID  rating\n0     1077   135085       3\n1     1077   135038       3\n2     1077   132825       3\n3     1077   135060       2\n4     1068   135104       2\n5     1068   132740       1\n6     1068   132663       2\n7     1068   132732       1\n8     1068   132630       2\n9     1067   132584       3\n10    1067   132733       2\n11    1067   132732       2\n12    1067   132630       2\n13    1067   135104       1\n14    1067   132560       2\n15    1103   132584       2\n16    1103   132732       1\n17    1103   132630       2\n18    1103   132613       3\n19    1103   132667       2",
      "text/html": "<div>\n<style scoped>\n    .dataframe tbody tr th:only-of-type {\n        vertical-align: middle;\n    }\n\n    .dataframe tbody tr th {\n        vertical-align: top;\n    }\n\n    .dataframe thead th {\n        text-align: right;\n    }\n</style>\n<table border=\"1\" class=\"dataframe\">\n  <thead>\n    <tr style=\"text-align: right;\">\n      <th></th>\n      <th>userID</th>\n      <th>placeID</th>\n      <th>rating</th>\n    </tr>\n  </thead>\n  <tbody>\n    <tr>\n      <th>0</th>\n      <td>1077</td>\n      <td>135085</td>\n      <td>3</td>\n    </tr>\n    <tr>\n      <th>1</th>\n      <td>1077</td>\n      <td>135038</td>\n      <td>3</td>\n    </tr>\n    <tr>\n      <th>2</th>\n      <td>1077</td>\n      <td>132825</td>\n      <td>3</td>\n    </tr>\n    <tr>\n      <th>3</th>\n      <td>1077</td>\n      <td>135060</td>\n      <td>2</td>\n    </tr>\n    <tr>\n      <th>4</th>\n      <td>1068</td>\n      <td>135104</td>\n      <td>2</td>\n    </tr>\n    <tr>\n      <th>5</th>\n      <td>1068</td>\n      <td>132740</td>\n      <td>1</td>\n    </tr>\n    <tr>\n      <th>6</th>\n      <td>1068</td>\n      <td>132663</td>\n      <td>2</td>\n    </tr>\n    <tr>\n      <th>7</th>\n      <td>1068</td>\n      <td>132732</td>\n      <td>1</td>\n    </tr>\n    <tr>\n      <th>8</th>\n      <td>1068</td>\n      <td>132630</td>\n      <td>2</td>\n    </tr>\n    <tr>\n      <th>9</th>\n      <td>1067</td>\n      <td>132584</td>\n      <td>3</td>\n    </tr>\n    <tr>\n      <th>10</th>\n      <td>1067</td>\n      <td>132733</td>\n      <td>2</td>\n    </tr>\n    <tr>\n      <th>11</th>\n      <td>1067</td>\n      <td>132732</td>\n      <td>2</td>\n    </tr>\n    <tr>\n      <th>12</th>\n      <td>1067</td>\n      <td>132630</td>\n      <td>2</td>\n    </tr>\n    <tr>\n      <th>13</th>\n      <td>1067</td>\n      <td>135104</td>\n      <td>1</td>\n    </tr>\n    <tr>\n      <th>14</th>\n      <td>1067</td>\n      <td>132560</td>\n      <td>2</td>\n    </tr>\n    <tr>\n      <th>15</th>\n      <td>1103</td>\n      <td>132584</td>\n      <td>2</td>\n    </tr>\n    <tr>\n      <th>16</th>\n      <td>1103</td>\n      <td>132732</td>\n      <td>1</td>\n    </tr>\n    <tr>\n      <th>17</th>\n      <td>1103</td>\n      <td>132630</td>\n      <td>2</td>\n    </tr>\n    <tr>\n      <th>18</th>\n      <td>1103</td>\n      <td>132613</td>\n      <td>3</td>\n    </tr>\n    <tr>\n      <th>19</th>\n      <td>1103</td>\n      <td>132667</td>\n      <td>2</td>\n    </tr>\n  </tbody>\n</table>\n</div>"
     },
     "execution_count": 325,
     "metadata": {},
     "output_type": "execute_result"
    }
   ],
   "source": [
    "data.head(20)"
   ],
   "metadata": {
    "collapsed": false,
    "pycharm": {
     "name": "#%%\n"
    }
   }
  },
  {
   "cell_type": "markdown",
   "source": [
    "## Create utility matrix"
   ],
   "metadata": {
    "collapsed": false,
    "pycharm": {
     "name": "#%% md\n"
    }
   }
  },
  {
   "cell_type": "code",
   "execution_count": 326,
   "outputs": [
    {
     "data": {
      "text/plain": "placeID  132560  132561  132564  132572  132583  132584  132594  132608  \\\nuserID                                                                    \n1001        NaN     NaN     NaN     NaN     NaN     NaN     NaN     NaN   \n1002        NaN     NaN     NaN     NaN     NaN     NaN     NaN     NaN   \n1003        NaN     NaN     NaN     NaN     NaN     NaN     NaN     NaN   \n1004        NaN     NaN     NaN     NaN     NaN     NaN     NaN     NaN   \n1005        NaN     NaN     NaN     NaN     NaN     NaN     NaN     NaN   \n...         ...     ...     ...     ...     ...     ...     ...     ...   \n1134        NaN     NaN     NaN     1.0     NaN     NaN     NaN     NaN   \n1135        NaN     NaN     NaN     NaN     NaN     NaN     NaN     NaN   \n1136        NaN     NaN     NaN     NaN     NaN     NaN     NaN     NaN   \n1137        NaN     NaN     NaN     NaN     NaN     NaN     NaN     NaN   \n1138        NaN     NaN     NaN     NaN     NaN     NaN     NaN     NaN   \n\nplaceID  132609  132613  ...  135080  135081  135082  135085  135086  135088  \\\nuserID                   ...                                                   \n1001        NaN     NaN  ...     NaN     NaN     NaN     1.0     NaN     NaN   \n1002        NaN     NaN  ...     NaN     NaN     NaN     2.0     NaN     NaN   \n1003        NaN     NaN  ...     3.0     NaN     NaN     NaN     NaN     NaN   \n1004        NaN     NaN  ...     NaN     NaN     NaN     NaN     NaN     NaN   \n1005        NaN     NaN  ...     NaN     NaN     NaN     NaN     NaN     NaN   \n...         ...     ...  ...     ...     ...     ...     ...     ...     ...   \n1134        NaN     NaN  ...     2.0     NaN     NaN     3.0     NaN     NaN   \n1135        NaN     NaN  ...     NaN     NaN     NaN     1.0     NaN     NaN   \n1136        NaN     NaN  ...     NaN     NaN     NaN     NaN     NaN     NaN   \n1137        NaN     NaN  ...     NaN     NaN     NaN     3.0     NaN     NaN   \n1138        NaN     NaN  ...     NaN     NaN     NaN     NaN     NaN     NaN   \n\nplaceID  135104  135106  135108  135109  \nuserID                                   \n1001        NaN     NaN     NaN     NaN  \n1002        NaN     2.0     NaN     NaN  \n1003        NaN     NaN     NaN     NaN  \n1004        NaN     3.0     NaN     NaN  \n1005        NaN     NaN     NaN     NaN  \n...         ...     ...     ...     ...  \n1134        NaN     NaN     NaN     NaN  \n1135        NaN     1.0     NaN     NaN  \n1136        NaN     NaN     NaN     NaN  \n1137        NaN     NaN     NaN     NaN  \n1138        NaN     NaN     NaN     NaN  \n\n[138 rows x 130 columns]",
      "text/html": "<div>\n<style scoped>\n    .dataframe tbody tr th:only-of-type {\n        vertical-align: middle;\n    }\n\n    .dataframe tbody tr th {\n        vertical-align: top;\n    }\n\n    .dataframe thead th {\n        text-align: right;\n    }\n</style>\n<table border=\"1\" class=\"dataframe\">\n  <thead>\n    <tr style=\"text-align: right;\">\n      <th>placeID</th>\n      <th>132560</th>\n      <th>132561</th>\n      <th>132564</th>\n      <th>132572</th>\n      <th>132583</th>\n      <th>132584</th>\n      <th>132594</th>\n      <th>132608</th>\n      <th>132609</th>\n      <th>132613</th>\n      <th>...</th>\n      <th>135080</th>\n      <th>135081</th>\n      <th>135082</th>\n      <th>135085</th>\n      <th>135086</th>\n      <th>135088</th>\n      <th>135104</th>\n      <th>135106</th>\n      <th>135108</th>\n      <th>135109</th>\n    </tr>\n    <tr>\n      <th>userID</th>\n      <th></th>\n      <th></th>\n      <th></th>\n      <th></th>\n      <th></th>\n      <th></th>\n      <th></th>\n      <th></th>\n      <th></th>\n      <th></th>\n      <th></th>\n      <th></th>\n      <th></th>\n      <th></th>\n      <th></th>\n      <th></th>\n      <th></th>\n      <th></th>\n      <th></th>\n      <th></th>\n      <th></th>\n    </tr>\n  </thead>\n  <tbody>\n    <tr>\n      <th>1001</th>\n      <td>NaN</td>\n      <td>NaN</td>\n      <td>NaN</td>\n      <td>NaN</td>\n      <td>NaN</td>\n      <td>NaN</td>\n      <td>NaN</td>\n      <td>NaN</td>\n      <td>NaN</td>\n      <td>NaN</td>\n      <td>...</td>\n      <td>NaN</td>\n      <td>NaN</td>\n      <td>NaN</td>\n      <td>1.0</td>\n      <td>NaN</td>\n      <td>NaN</td>\n      <td>NaN</td>\n      <td>NaN</td>\n      <td>NaN</td>\n      <td>NaN</td>\n    </tr>\n    <tr>\n      <th>1002</th>\n      <td>NaN</td>\n      <td>NaN</td>\n      <td>NaN</td>\n      <td>NaN</td>\n      <td>NaN</td>\n      <td>NaN</td>\n      <td>NaN</td>\n      <td>NaN</td>\n      <td>NaN</td>\n      <td>NaN</td>\n      <td>...</td>\n      <td>NaN</td>\n      <td>NaN</td>\n      <td>NaN</td>\n      <td>2.0</td>\n      <td>NaN</td>\n      <td>NaN</td>\n      <td>NaN</td>\n      <td>2.0</td>\n      <td>NaN</td>\n      <td>NaN</td>\n    </tr>\n    <tr>\n      <th>1003</th>\n      <td>NaN</td>\n      <td>NaN</td>\n      <td>NaN</td>\n      <td>NaN</td>\n      <td>NaN</td>\n      <td>NaN</td>\n      <td>NaN</td>\n      <td>NaN</td>\n      <td>NaN</td>\n      <td>NaN</td>\n      <td>...</td>\n      <td>3.0</td>\n      <td>NaN</td>\n      <td>NaN</td>\n      <td>NaN</td>\n      <td>NaN</td>\n      <td>NaN</td>\n      <td>NaN</td>\n      <td>NaN</td>\n      <td>NaN</td>\n      <td>NaN</td>\n    </tr>\n    <tr>\n      <th>1004</th>\n      <td>NaN</td>\n      <td>NaN</td>\n      <td>NaN</td>\n      <td>NaN</td>\n      <td>NaN</td>\n      <td>NaN</td>\n      <td>NaN</td>\n      <td>NaN</td>\n      <td>NaN</td>\n      <td>NaN</td>\n      <td>...</td>\n      <td>NaN</td>\n      <td>NaN</td>\n      <td>NaN</td>\n      <td>NaN</td>\n      <td>NaN</td>\n      <td>NaN</td>\n      <td>NaN</td>\n      <td>3.0</td>\n      <td>NaN</td>\n      <td>NaN</td>\n    </tr>\n    <tr>\n      <th>1005</th>\n      <td>NaN</td>\n      <td>NaN</td>\n      <td>NaN</td>\n      <td>NaN</td>\n      <td>NaN</td>\n      <td>NaN</td>\n      <td>NaN</td>\n      <td>NaN</td>\n      <td>NaN</td>\n      <td>NaN</td>\n      <td>...</td>\n      <td>NaN</td>\n      <td>NaN</td>\n      <td>NaN</td>\n      <td>NaN</td>\n      <td>NaN</td>\n      <td>NaN</td>\n      <td>NaN</td>\n      <td>NaN</td>\n      <td>NaN</td>\n      <td>NaN</td>\n    </tr>\n    <tr>\n      <th>...</th>\n      <td>...</td>\n      <td>...</td>\n      <td>...</td>\n      <td>...</td>\n      <td>...</td>\n      <td>...</td>\n      <td>...</td>\n      <td>...</td>\n      <td>...</td>\n      <td>...</td>\n      <td>...</td>\n      <td>...</td>\n      <td>...</td>\n      <td>...</td>\n      <td>...</td>\n      <td>...</td>\n      <td>...</td>\n      <td>...</td>\n      <td>...</td>\n      <td>...</td>\n      <td>...</td>\n    </tr>\n    <tr>\n      <th>1134</th>\n      <td>NaN</td>\n      <td>NaN</td>\n      <td>NaN</td>\n      <td>1.0</td>\n      <td>NaN</td>\n      <td>NaN</td>\n      <td>NaN</td>\n      <td>NaN</td>\n      <td>NaN</td>\n      <td>NaN</td>\n      <td>...</td>\n      <td>2.0</td>\n      <td>NaN</td>\n      <td>NaN</td>\n      <td>3.0</td>\n      <td>NaN</td>\n      <td>NaN</td>\n      <td>NaN</td>\n      <td>NaN</td>\n      <td>NaN</td>\n      <td>NaN</td>\n    </tr>\n    <tr>\n      <th>1135</th>\n      <td>NaN</td>\n      <td>NaN</td>\n      <td>NaN</td>\n      <td>NaN</td>\n      <td>NaN</td>\n      <td>NaN</td>\n      <td>NaN</td>\n      <td>NaN</td>\n      <td>NaN</td>\n      <td>NaN</td>\n      <td>...</td>\n      <td>NaN</td>\n      <td>NaN</td>\n      <td>NaN</td>\n      <td>1.0</td>\n      <td>NaN</td>\n      <td>NaN</td>\n      <td>NaN</td>\n      <td>1.0</td>\n      <td>NaN</td>\n      <td>NaN</td>\n    </tr>\n    <tr>\n      <th>1136</th>\n      <td>NaN</td>\n      <td>NaN</td>\n      <td>NaN</td>\n      <td>NaN</td>\n      <td>NaN</td>\n      <td>NaN</td>\n      <td>NaN</td>\n      <td>NaN</td>\n      <td>NaN</td>\n      <td>NaN</td>\n      <td>...</td>\n      <td>NaN</td>\n      <td>NaN</td>\n      <td>NaN</td>\n      <td>NaN</td>\n      <td>NaN</td>\n      <td>NaN</td>\n      <td>NaN</td>\n      <td>NaN</td>\n      <td>NaN</td>\n      <td>NaN</td>\n    </tr>\n    <tr>\n      <th>1137</th>\n      <td>NaN</td>\n      <td>NaN</td>\n      <td>NaN</td>\n      <td>NaN</td>\n      <td>NaN</td>\n      <td>NaN</td>\n      <td>NaN</td>\n      <td>NaN</td>\n      <td>NaN</td>\n      <td>NaN</td>\n      <td>...</td>\n      <td>NaN</td>\n      <td>NaN</td>\n      <td>NaN</td>\n      <td>3.0</td>\n      <td>NaN</td>\n      <td>NaN</td>\n      <td>NaN</td>\n      <td>NaN</td>\n      <td>NaN</td>\n      <td>NaN</td>\n    </tr>\n    <tr>\n      <th>1138</th>\n      <td>NaN</td>\n      <td>NaN</td>\n      <td>NaN</td>\n      <td>NaN</td>\n      <td>NaN</td>\n      <td>NaN</td>\n      <td>NaN</td>\n      <td>NaN</td>\n      <td>NaN</td>\n      <td>NaN</td>\n      <td>...</td>\n      <td>NaN</td>\n      <td>NaN</td>\n      <td>NaN</td>\n      <td>NaN</td>\n      <td>NaN</td>\n      <td>NaN</td>\n      <td>NaN</td>\n      <td>NaN</td>\n      <td>NaN</td>\n      <td>NaN</td>\n    </tr>\n  </tbody>\n</table>\n<p>138 rows × 130 columns</p>\n</div>"
     },
     "execution_count": 326,
     "metadata": {},
     "output_type": "execute_result"
    }
   ],
   "source": [
    "# Create the utility matrix\n",
    "umatrix = data.pivot(index=\"userID\", columns=\"placeID\", values=\"rating\")\n",
    "\n",
    "# Count number of reviews for users\n",
    "num_of_reviews = umatrix.count(axis=1)\n",
    "\n",
    "umatrix"
   ],
   "metadata": {
    "collapsed": false,
    "pycharm": {
     "name": "#%%\n"
    }
   }
  },
  {
   "cell_type": "code",
   "execution_count": 327,
   "outputs": [
    {
     "name": "stdout",
     "output_type": "stream",
     "text": [
      "93.52% empty\n"
     ]
    }
   ],
   "source": [
    "undefined_values = umatrix.isna().sum().sum()\n",
    "total_values = umatrix.shape[0] * umatrix.shape[1]\n",
    "\n",
    "sparsity = int(undefined_values / total_values * 10000)\n",
    "print(f\"{sparsity/100.0}% empty\")"
   ],
   "metadata": {
    "collapsed": false,
    "pycharm": {
     "name": "#%%\n"
    }
   }
  },
  {
   "cell_type": "markdown",
   "source": [
    "## Matrix factorization"
   ],
   "metadata": {
    "collapsed": false,
    "pycharm": {
     "name": "#%% md\n"
    }
   }
  },
  {
   "cell_type": "code",
   "execution_count": 336,
   "outputs": [
    {
     "data": {
      "text/plain": "placeID  132560  132561  132564  132572  132583  132584  132594  132608  \\\nuserID                                                                    \n1001        0.0     0.0     0.0     0.0     0.0     0.0     0.0     0.0   \n1002        0.0     0.0     0.0     0.0     0.0     0.0     0.0     0.0   \n1003        0.0     0.0     0.0     0.0     0.0     0.0     0.0     0.0   \n1004        0.0     0.0     0.0     0.0     0.0     0.0     0.0     0.0   \n1005        0.0     0.0     0.0     0.0     0.0     0.0     0.0     0.0   \n...         ...     ...     ...     ...     ...     ...     ...     ...   \n1134        0.0     0.0     0.0     1.0     0.0     0.0     0.0     0.0   \n1135        0.0     0.0     0.0     0.0     0.0     0.0     0.0     0.0   \n1136        0.0     0.0     0.0     0.0     0.0     0.0     0.0     0.0   \n1137        0.0     0.0     0.0     0.0     0.0     0.0     0.0     0.0   \n1138        0.0     0.0     0.0     0.0     0.0     0.0     0.0     0.0   \n\nplaceID  132609  132613  ...  135080  135081  135082  135085  135086  135088  \\\nuserID                   ...                                                   \n1001        0.0     0.0  ...     0.0     0.0     0.0     1.0     0.0     0.0   \n1002        0.0     0.0  ...     0.0     0.0     0.0     2.0     0.0     0.0   \n1003        0.0     0.0  ...     3.0     0.0     0.0     0.0     0.0     0.0   \n1004        0.0     0.0  ...     0.0     0.0     0.0     0.0     0.0     0.0   \n1005        0.0     0.0  ...     0.0     0.0     0.0     0.0     0.0     0.0   \n...         ...     ...  ...     ...     ...     ...     ...     ...     ...   \n1134        0.0     0.0  ...     2.0     0.0     0.0     3.0     0.0     0.0   \n1135        0.0     0.0  ...     0.0     0.0     0.0     1.0     0.0     0.0   \n1136        0.0     0.0  ...     0.0     0.0     0.0     0.0     0.0     0.0   \n1137        0.0     0.0  ...     0.0     0.0     0.0     3.0     0.0     0.0   \n1138        0.0     0.0  ...     0.0     0.0     0.0     0.0     0.0     0.0   \n\nplaceID  135104  135106  135108  135109  \nuserID                                   \n1001        0.0     0.0     0.0     0.0  \n1002        0.0     2.0     0.0     0.0  \n1003        0.0     0.0     0.0     0.0  \n1004        0.0     3.0     0.0     0.0  \n1005        0.0     0.0     0.0     0.0  \n...         ...     ...     ...     ...  \n1134        0.0     0.0     0.0     0.0  \n1135        0.0     1.0     0.0     0.0  \n1136        0.0     0.0     0.0     0.0  \n1137        0.0     0.0     0.0     0.0  \n1138        0.0     0.0     0.0     0.0  \n\n[138 rows x 130 columns]",
      "text/html": "<div>\n<style scoped>\n    .dataframe tbody tr th:only-of-type {\n        vertical-align: middle;\n    }\n\n    .dataframe tbody tr th {\n        vertical-align: top;\n    }\n\n    .dataframe thead th {\n        text-align: right;\n    }\n</style>\n<table border=\"1\" class=\"dataframe\">\n  <thead>\n    <tr style=\"text-align: right;\">\n      <th>placeID</th>\n      <th>132560</th>\n      <th>132561</th>\n      <th>132564</th>\n      <th>132572</th>\n      <th>132583</th>\n      <th>132584</th>\n      <th>132594</th>\n      <th>132608</th>\n      <th>132609</th>\n      <th>132613</th>\n      <th>...</th>\n      <th>135080</th>\n      <th>135081</th>\n      <th>135082</th>\n      <th>135085</th>\n      <th>135086</th>\n      <th>135088</th>\n      <th>135104</th>\n      <th>135106</th>\n      <th>135108</th>\n      <th>135109</th>\n    </tr>\n    <tr>\n      <th>userID</th>\n      <th></th>\n      <th></th>\n      <th></th>\n      <th></th>\n      <th></th>\n      <th></th>\n      <th></th>\n      <th></th>\n      <th></th>\n      <th></th>\n      <th></th>\n      <th></th>\n      <th></th>\n      <th></th>\n      <th></th>\n      <th></th>\n      <th></th>\n      <th></th>\n      <th></th>\n      <th></th>\n      <th></th>\n    </tr>\n  </thead>\n  <tbody>\n    <tr>\n      <th>1001</th>\n      <td>0.0</td>\n      <td>0.0</td>\n      <td>0.0</td>\n      <td>0.0</td>\n      <td>0.0</td>\n      <td>0.0</td>\n      <td>0.0</td>\n      <td>0.0</td>\n      <td>0.0</td>\n      <td>0.0</td>\n      <td>...</td>\n      <td>0.0</td>\n      <td>0.0</td>\n      <td>0.0</td>\n      <td>1.0</td>\n      <td>0.0</td>\n      <td>0.0</td>\n      <td>0.0</td>\n      <td>0.0</td>\n      <td>0.0</td>\n      <td>0.0</td>\n    </tr>\n    <tr>\n      <th>1002</th>\n      <td>0.0</td>\n      <td>0.0</td>\n      <td>0.0</td>\n      <td>0.0</td>\n      <td>0.0</td>\n      <td>0.0</td>\n      <td>0.0</td>\n      <td>0.0</td>\n      <td>0.0</td>\n      <td>0.0</td>\n      <td>...</td>\n      <td>0.0</td>\n      <td>0.0</td>\n      <td>0.0</td>\n      <td>2.0</td>\n      <td>0.0</td>\n      <td>0.0</td>\n      <td>0.0</td>\n      <td>2.0</td>\n      <td>0.0</td>\n      <td>0.0</td>\n    </tr>\n    <tr>\n      <th>1003</th>\n      <td>0.0</td>\n      <td>0.0</td>\n      <td>0.0</td>\n      <td>0.0</td>\n      <td>0.0</td>\n      <td>0.0</td>\n      <td>0.0</td>\n      <td>0.0</td>\n      <td>0.0</td>\n      <td>0.0</td>\n      <td>...</td>\n      <td>3.0</td>\n      <td>0.0</td>\n      <td>0.0</td>\n      <td>0.0</td>\n      <td>0.0</td>\n      <td>0.0</td>\n      <td>0.0</td>\n      <td>0.0</td>\n      <td>0.0</td>\n      <td>0.0</td>\n    </tr>\n    <tr>\n      <th>1004</th>\n      <td>0.0</td>\n      <td>0.0</td>\n      <td>0.0</td>\n      <td>0.0</td>\n      <td>0.0</td>\n      <td>0.0</td>\n      <td>0.0</td>\n      <td>0.0</td>\n      <td>0.0</td>\n      <td>0.0</td>\n      <td>...</td>\n      <td>0.0</td>\n      <td>0.0</td>\n      <td>0.0</td>\n      <td>0.0</td>\n      <td>0.0</td>\n      <td>0.0</td>\n      <td>0.0</td>\n      <td>3.0</td>\n      <td>0.0</td>\n      <td>0.0</td>\n    </tr>\n    <tr>\n      <th>1005</th>\n      <td>0.0</td>\n      <td>0.0</td>\n      <td>0.0</td>\n      <td>0.0</td>\n      <td>0.0</td>\n      <td>0.0</td>\n      <td>0.0</td>\n      <td>0.0</td>\n      <td>0.0</td>\n      <td>0.0</td>\n      <td>...</td>\n      <td>0.0</td>\n      <td>0.0</td>\n      <td>0.0</td>\n      <td>0.0</td>\n      <td>0.0</td>\n      <td>0.0</td>\n      <td>0.0</td>\n      <td>0.0</td>\n      <td>0.0</td>\n      <td>0.0</td>\n    </tr>\n    <tr>\n      <th>...</th>\n      <td>...</td>\n      <td>...</td>\n      <td>...</td>\n      <td>...</td>\n      <td>...</td>\n      <td>...</td>\n      <td>...</td>\n      <td>...</td>\n      <td>...</td>\n      <td>...</td>\n      <td>...</td>\n      <td>...</td>\n      <td>...</td>\n      <td>...</td>\n      <td>...</td>\n      <td>...</td>\n      <td>...</td>\n      <td>...</td>\n      <td>...</td>\n      <td>...</td>\n      <td>...</td>\n    </tr>\n    <tr>\n      <th>1134</th>\n      <td>0.0</td>\n      <td>0.0</td>\n      <td>0.0</td>\n      <td>1.0</td>\n      <td>0.0</td>\n      <td>0.0</td>\n      <td>0.0</td>\n      <td>0.0</td>\n      <td>0.0</td>\n      <td>0.0</td>\n      <td>...</td>\n      <td>2.0</td>\n      <td>0.0</td>\n      <td>0.0</td>\n      <td>3.0</td>\n      <td>0.0</td>\n      <td>0.0</td>\n      <td>0.0</td>\n      <td>0.0</td>\n      <td>0.0</td>\n      <td>0.0</td>\n    </tr>\n    <tr>\n      <th>1135</th>\n      <td>0.0</td>\n      <td>0.0</td>\n      <td>0.0</td>\n      <td>0.0</td>\n      <td>0.0</td>\n      <td>0.0</td>\n      <td>0.0</td>\n      <td>0.0</td>\n      <td>0.0</td>\n      <td>0.0</td>\n      <td>...</td>\n      <td>0.0</td>\n      <td>0.0</td>\n      <td>0.0</td>\n      <td>1.0</td>\n      <td>0.0</td>\n      <td>0.0</td>\n      <td>0.0</td>\n      <td>1.0</td>\n      <td>0.0</td>\n      <td>0.0</td>\n    </tr>\n    <tr>\n      <th>1136</th>\n      <td>0.0</td>\n      <td>0.0</td>\n      <td>0.0</td>\n      <td>0.0</td>\n      <td>0.0</td>\n      <td>0.0</td>\n      <td>0.0</td>\n      <td>0.0</td>\n      <td>0.0</td>\n      <td>0.0</td>\n      <td>...</td>\n      <td>0.0</td>\n      <td>0.0</td>\n      <td>0.0</td>\n      <td>0.0</td>\n      <td>0.0</td>\n      <td>0.0</td>\n      <td>0.0</td>\n      <td>0.0</td>\n      <td>0.0</td>\n      <td>0.0</td>\n    </tr>\n    <tr>\n      <th>1137</th>\n      <td>0.0</td>\n      <td>0.0</td>\n      <td>0.0</td>\n      <td>0.0</td>\n      <td>0.0</td>\n      <td>0.0</td>\n      <td>0.0</td>\n      <td>0.0</td>\n      <td>0.0</td>\n      <td>0.0</td>\n      <td>...</td>\n      <td>0.0</td>\n      <td>0.0</td>\n      <td>0.0</td>\n      <td>3.0</td>\n      <td>0.0</td>\n      <td>0.0</td>\n      <td>0.0</td>\n      <td>0.0</td>\n      <td>0.0</td>\n      <td>0.0</td>\n    </tr>\n    <tr>\n      <th>1138</th>\n      <td>0.0</td>\n      <td>0.0</td>\n      <td>0.0</td>\n      <td>0.0</td>\n      <td>0.0</td>\n      <td>0.0</td>\n      <td>0.0</td>\n      <td>0.0</td>\n      <td>0.0</td>\n      <td>0.0</td>\n      <td>...</td>\n      <td>0.0</td>\n      <td>0.0</td>\n      <td>0.0</td>\n      <td>0.0</td>\n      <td>0.0</td>\n      <td>0.0</td>\n      <td>0.0</td>\n      <td>0.0</td>\n      <td>0.0</td>\n      <td>0.0</td>\n    </tr>\n  </tbody>\n</table>\n<p>138 rows × 130 columns</p>\n</div>"
     },
     "execution_count": 336,
     "metadata": {},
     "output_type": "execute_result"
    }
   ],
   "source": [
    "# Replace NaN with 0\n",
    "umatrix.fillna(0, inplace=True)\n",
    "\n",
    "umatrix"
   ],
   "metadata": {
    "collapsed": false,
    "pycharm": {
     "name": "#%%\n"
    }
   }
  },
  {
   "cell_type": "markdown",
   "source": [
    "## Helper functions\n",
    "Cosine similarity $ similarity = cos(0) = \\frac{A \\cdot B}{|{A}||{B}|}$ the only related Linear Algebra concept that I actually understand and can write myself"
   ],
   "metadata": {
    "collapsed": false,
    "pycharm": {
     "name": "#%% md\n"
    }
   }
  },
  {
   "cell_type": "code",
   "execution_count": 329,
   "outputs": [],
   "source": [
    "def cos_similarity(u, v):\n",
    "    dot_product = np.dot(u, v)\n",
    "    return dot_product / np.linalg.norm(u) * np.linalg.norm(v)"
   ],
   "metadata": {
    "collapsed": false,
    "pycharm": {
     "name": "#%%\n"
    }
   }
  },
  {
   "cell_type": "code",
   "execution_count": 453,
   "outputs": [],
   "source": [
    "def find_similar(user_id, util_matrix):\n",
    "    \"\"\"\n",
    "    Courtesy of\n",
    "    https://machinelearningmastery.com/using-singular-value-decomposition-to-build-a-recommender-system/\n",
    "    minor changes made\n",
    "    \"\"\"\n",
    "\n",
    "    # Factorize using Numpy SVD\n",
    "    u, s, v = np.linalg.svd(util_matrix, full_matrices=False)\n",
    "\n",
    "    # Get index of userID\n",
    "    reset_index = util_matrix.reset_index()\n",
    "    index_to_user = reset_index.copy()[\"userID\"]\n",
    "    target = reset_index[reset_index[\"userID\"] == user_id].index.values\n",
    "\n",
    "    for i in range(0, util_matrix.shape[0]):\n",
    "        if util_matrix.iloc[i].name == user_id:\n",
    "            target = i\n",
    "\n",
    "    highest_similarity = -np.inf\n",
    "    highest_sim_col = -1\n",
    "    # Iterate through columns\n",
    "    for col in range(0,v.shape[0]):\n",
    "        if col == target:\n",
    "            continue\n",
    "\n",
    "        # Get the similarity of the target col and current\n",
    "        similarity = cos_similarity(v[target], v[col])\n",
    "        if similarity > highest_similarity:\n",
    "            highest_similarity = similarity\n",
    "            highest_sim_col = col\n",
    "    return index_to_user[highest_sim_col]"
   ],
   "metadata": {
    "collapsed": false,
    "pycharm": {
     "name": "#%%\n"
    }
   }
  },
  {
   "cell_type": "code",
   "execution_count": 454,
   "outputs": [
    {
     "name": "stdout",
     "output_type": "stream",
     "text": [
      "most similar user 1129\n"
     ]
    }
   ],
   "source": [
    "most_similar = find_similar(1002, umatrix)\n",
    "print(\"most similar user %s\" % most_similar)"
   ],
   "metadata": {
    "collapsed": false,
    "pycharm": {
     "name": "#%%\n"
    }
   }
  },
  {
   "cell_type": "code",
   "execution_count": 451,
   "outputs": [],
   "source": [
    "class Recommender:\n",
    "\n",
    "    def __init__(self, util_matrix):\n",
    "        self.util_matrix = util_matrix\n",
    "        self.max_recommendations = 5\n",
    "\n",
    "    def cf_recommend(self, user_id):\n",
    "        \"\"\"\n",
    "        :param user_id: id of the user to recommend to\n",
    "        :return: set of recommendations\n",
    "        \"\"\"\n",
    "        recommendations_ = list()\n",
    "\n",
    "        # Find most similar user\n",
    "        most_similar_user = find_similar(user_id, self.util_matrix)\n",
    "\n",
    "        # Get rows for both, a bit hacky but n-th user has the id n + 1001\n",
    "        user_row    = self.util_matrix.loc[user_id].values.flatten().tolist()\n",
    "        similar_row = self.util_matrix.loc[most_similar_user].values.flatten().tolist()\n",
    "\n",
    "        # Loop through rows 3 times\n",
    "        for i in range(0,3):\n",
    "            for j in range(0,len(user_row)):\n",
    "                # Append to list according to the following rules:\n",
    "                # 1. If user row cell j already contains values, we should not recommend\n",
    "                # 2. First append the items with greatest reviews, this is why we loop 3 times\n",
    "                if user_row[j] == 0 and similar_row[j] > (3-i):\n",
    "                    recommendations_.append(j)\n",
    "\n",
    "        # Truncate recommendation list\n",
    "        recommendations_ = recommendations_[0:self.max_recommendations]\n",
    "        return recommendations_"
   ],
   "metadata": {
    "collapsed": false,
    "pycharm": {
     "name": "#%%\n"
    }
   }
  },
  {
   "cell_type": "markdown",
   "source": [
    "Some users don't get recommendations"
   ],
   "metadata": {
    "collapsed": false,
    "pycharm": {
     "name": "#%% md\n"
    }
   }
  },
  {
   "cell_type": "code",
   "execution_count": 452,
   "outputs": [
    {
     "name": "stdout",
     "output_type": "stream",
     "text": [
      "[]\n"
     ]
    }
   ],
   "source": [
    "recommender = Recommender(umatrix)\n",
    "recommendations = recommender.cf_recommend(1063)\n",
    "print(recommendations)"
   ],
   "metadata": {
    "collapsed": false,
    "pycharm": {
     "name": "#%%\n"
    }
   }
  },
  {
   "cell_type": "markdown",
   "source": [
    "I'm not sure what causes this, but it might be a symptom of the greedy way the algorithm above picks the most similar user. A perfect match (cosine similarity of 1) would mean there's nothing to recommend\n",
    "because both users have rated the exact same places exactly the same. Even if the rating isn't exact, as long as both have reviewed the same places, there is no recommendation done.\n",
    "\n",
    "A less similar user could l be close enough to make good recommendations, but still differ, making recommendations."
   ],
   "metadata": {
    "collapsed": false,
    "pycharm": {
     "name": "#%% md\n"
    }
   }
  },
  {
   "cell_type": "markdown",
   "source": [
    "## Cascade recommender\n",
    "My initial idea was to tackle the cold start problem of collaborative filtering, by augmenting the users row with content based recommendations if a user only had a 1-3 reviews.\n",
    "\n",
    "But after finally getting my recommender to work a week before the deadline I decieded this would be too difficult.\n",
    "\n",
    "I still wanted to implement some sort of hybrid recommender and found the Cascade model to work well for what I so far had made.\n",
    "\n",
    "![Graph for Cascade hybrid recommender](cascade.jpeg \"Cascade hybrid recommender\")\n",
    "courtesy of: https://medium.com/analytics-vidhya/7-types-of-hybrid-recommendation-system-3e4f78266ad8\n",
    "\n",
    "The idea is simple: Switch RS given a certain state or condition. As I discovered that some rows don't get any recommendations, it would be nice to have a \"backup\" RS.\n",
    "\n",
    "Innitially I thought this was a switching model, but I realized that the switching happens after an initial recommendation, making this in fact a Cascade hybrid (or close to atleast)."
   ],
   "metadata": {
    "collapsed": false,
    "pycharm": {
     "name": "#%% md\n"
    }
   }
  },
  {
   "cell_type": "code",
   "execution_count": 510,
   "outputs": [
    {
     "data": {
      "text/plain": "  placeID   latitude   longitude  \\\n0  134999  18.915421  -99.184871   \n1  132825  22.147392 -100.983092   \n2  135106  22.149709 -100.976093   \n3  132667  23.752697  -99.163359   \n4  132613  23.752903  -99.165076   \n\n                                      the_geom_meter  \\\n0  0101000020957F000088568DE356715AC138C0A525FC46...   \n1  0101000020957F00001AD016568C4858C1243261274BA5...   \n2  0101000020957F0000649D6F21634858C119AE9BF528A3...   \n3  0101000020957F00005D67BCDDED8157C1222A2DC8D84D...   \n4  0101000020957F00008EBA2D06DC8157C194E03B7B504E...   \n\n                             name                                 address  \\\n0                 Kiku Cuernavaca                              Revolucion   \n1                 puesto de tacos  esquina santos degollado y leon guzman   \n2      El Rincón de San Francisco                         Universidad 169   \n3  little pizza Emilio Portes Gil                 calle emilio portes gil   \n4                   carnitas_mata                  lic. Emilio portes gil   \n\n              city            state country fax  ...     alcohol smoking_area  \\\n0       Cuernavaca          Morelos  Mexico   ?  ...  no_alcohol         none   \n1           s.l.p.           s.l.p.  mexico   ?  ...  no_alcohol         none   \n2  San Luis Potosi  San Luis Potosi  Mexico   ?  ...   wine_beer          bar   \n3        victoria        tamaulipas       ?   ?  ...  no_alcohol         none   \n4         victoria       Tamaulipas  Mexico   ?  ...  no_alcohol    permitted   \n\n  dress_code     accessibility   price                    url  ambience  \\\n0   informal  no_accessibility  medium  kikucuernavaca.com.mx  familiar   \n1   informal        completely     low                      ?  familiar   \n2   informal         partially  medium                      ?  familiar   \n3   informal        completely     low                      ?  familiar   \n4   informal        completely  medium                      ?  familiar   \n\n  franchise    area other_services  \n0         f  closed           none  \n1         f    open           none  \n2         f    open           none  \n3         t  closed           none  \n4         t  closed           none  \n\n[5 rows x 21 columns]",
      "text/html": "<div>\n<style scoped>\n    .dataframe tbody tr th:only-of-type {\n        vertical-align: middle;\n    }\n\n    .dataframe tbody tr th {\n        vertical-align: top;\n    }\n\n    .dataframe thead th {\n        text-align: right;\n    }\n</style>\n<table border=\"1\" class=\"dataframe\">\n  <thead>\n    <tr style=\"text-align: right;\">\n      <th></th>\n      <th>placeID</th>\n      <th>latitude</th>\n      <th>longitude</th>\n      <th>the_geom_meter</th>\n      <th>name</th>\n      <th>address</th>\n      <th>city</th>\n      <th>state</th>\n      <th>country</th>\n      <th>fax</th>\n      <th>...</th>\n      <th>alcohol</th>\n      <th>smoking_area</th>\n      <th>dress_code</th>\n      <th>accessibility</th>\n      <th>price</th>\n      <th>url</th>\n      <th>ambience</th>\n      <th>franchise</th>\n      <th>area</th>\n      <th>other_services</th>\n    </tr>\n  </thead>\n  <tbody>\n    <tr>\n      <th>0</th>\n      <td>134999</td>\n      <td>18.915421</td>\n      <td>-99.184871</td>\n      <td>0101000020957F000088568DE356715AC138C0A525FC46...</td>\n      <td>Kiku Cuernavaca</td>\n      <td>Revolucion</td>\n      <td>Cuernavaca</td>\n      <td>Morelos</td>\n      <td>Mexico</td>\n      <td>?</td>\n      <td>...</td>\n      <td>no_alcohol</td>\n      <td>none</td>\n      <td>informal</td>\n      <td>no_accessibility</td>\n      <td>medium</td>\n      <td>kikucuernavaca.com.mx</td>\n      <td>familiar</td>\n      <td>f</td>\n      <td>closed</td>\n      <td>none</td>\n    </tr>\n    <tr>\n      <th>1</th>\n      <td>132825</td>\n      <td>22.147392</td>\n      <td>-100.983092</td>\n      <td>0101000020957F00001AD016568C4858C1243261274BA5...</td>\n      <td>puesto de tacos</td>\n      <td>esquina santos degollado y leon guzman</td>\n      <td>s.l.p.</td>\n      <td>s.l.p.</td>\n      <td>mexico</td>\n      <td>?</td>\n      <td>...</td>\n      <td>no_alcohol</td>\n      <td>none</td>\n      <td>informal</td>\n      <td>completely</td>\n      <td>low</td>\n      <td>?</td>\n      <td>familiar</td>\n      <td>f</td>\n      <td>open</td>\n      <td>none</td>\n    </tr>\n    <tr>\n      <th>2</th>\n      <td>135106</td>\n      <td>22.149709</td>\n      <td>-100.976093</td>\n      <td>0101000020957F0000649D6F21634858C119AE9BF528A3...</td>\n      <td>El Rincón de San Francisco</td>\n      <td>Universidad 169</td>\n      <td>San Luis Potosi</td>\n      <td>San Luis Potosi</td>\n      <td>Mexico</td>\n      <td>?</td>\n      <td>...</td>\n      <td>wine_beer</td>\n      <td>bar</td>\n      <td>informal</td>\n      <td>partially</td>\n      <td>medium</td>\n      <td>?</td>\n      <td>familiar</td>\n      <td>f</td>\n      <td>open</td>\n      <td>none</td>\n    </tr>\n    <tr>\n      <th>3</th>\n      <td>132667</td>\n      <td>23.752697</td>\n      <td>-99.163359</td>\n      <td>0101000020957F00005D67BCDDED8157C1222A2DC8D84D...</td>\n      <td>little pizza Emilio Portes Gil</td>\n      <td>calle emilio portes gil</td>\n      <td>victoria</td>\n      <td>tamaulipas</td>\n      <td>?</td>\n      <td>?</td>\n      <td>...</td>\n      <td>no_alcohol</td>\n      <td>none</td>\n      <td>informal</td>\n      <td>completely</td>\n      <td>low</td>\n      <td>?</td>\n      <td>familiar</td>\n      <td>t</td>\n      <td>closed</td>\n      <td>none</td>\n    </tr>\n    <tr>\n      <th>4</th>\n      <td>132613</td>\n      <td>23.752903</td>\n      <td>-99.165076</td>\n      <td>0101000020957F00008EBA2D06DC8157C194E03B7B504E...</td>\n      <td>carnitas_mata</td>\n      <td>lic. Emilio portes gil</td>\n      <td>victoria</td>\n      <td>Tamaulipas</td>\n      <td>Mexico</td>\n      <td>?</td>\n      <td>...</td>\n      <td>no_alcohol</td>\n      <td>permitted</td>\n      <td>informal</td>\n      <td>completely</td>\n      <td>medium</td>\n      <td>?</td>\n      <td>familiar</td>\n      <td>t</td>\n      <td>closed</td>\n      <td>none</td>\n    </tr>\n  </tbody>\n</table>\n<p>5 rows × 21 columns</p>\n</div>"
     },
     "execution_count": 510,
     "metadata": {},
     "output_type": "execute_result"
    }
   ],
   "source": [
    "data = pd.read_csv(\"geoplaces2.csv\", sep=\";\")\n",
    "data.head()"
   ],
   "metadata": {
    "collapsed": false,
    "pycharm": {
     "name": "#%%\n"
    }
   }
  },
  {
   "cell_type": "code",
   "execution_count": 509,
   "outputs": [
    {
     "ename": "ValueError",
     "evalue": "y contains previously unseen labels: nan",
     "output_type": "error",
     "traceback": [
      "\u001B[1;31m---------------------------------------------------------------------------\u001B[0m",
      "\u001B[1;31mKeyError\u001B[0m                                  Traceback (most recent call last)",
      "\u001B[1;32m~\\anaconda3\\lib\\site-packages\\sklearn\\utils\\_encode.py\u001B[0m in \u001B[0;36m_encode\u001B[1;34m(values, uniques, check_unknown)\u001B[0m\n\u001B[0;32m    177\u001B[0m         \u001B[1;32mtry\u001B[0m\u001B[1;33m:\u001B[0m\u001B[1;33m\u001B[0m\u001B[1;33m\u001B[0m\u001B[0m\n\u001B[1;32m--> 178\u001B[1;33m             \u001B[1;32mreturn\u001B[0m \u001B[0m_map_to_integer\u001B[0m\u001B[1;33m(\u001B[0m\u001B[0mvalues\u001B[0m\u001B[1;33m,\u001B[0m \u001B[0muniques\u001B[0m\u001B[1;33m)\u001B[0m\u001B[1;33m\u001B[0m\u001B[1;33m\u001B[0m\u001B[0m\n\u001B[0m\u001B[0;32m    179\u001B[0m         \u001B[1;32mexcept\u001B[0m \u001B[0mKeyError\u001B[0m \u001B[1;32mas\u001B[0m \u001B[0me\u001B[0m\u001B[1;33m:\u001B[0m\u001B[1;33m\u001B[0m\u001B[1;33m\u001B[0m\u001B[0m\n",
      "\u001B[1;32m~\\anaconda3\\lib\\site-packages\\sklearn\\utils\\_encode.py\u001B[0m in \u001B[0;36m_map_to_integer\u001B[1;34m(values, uniques)\u001B[0m\n\u001B[0;32m    122\u001B[0m     \u001B[0mtable\u001B[0m \u001B[1;33m=\u001B[0m \u001B[0m_nandict\u001B[0m\u001B[1;33m(\u001B[0m\u001B[1;33m{\u001B[0m\u001B[0mval\u001B[0m\u001B[1;33m:\u001B[0m \u001B[0mi\u001B[0m \u001B[1;32mfor\u001B[0m \u001B[0mi\u001B[0m\u001B[1;33m,\u001B[0m \u001B[0mval\u001B[0m \u001B[1;32min\u001B[0m \u001B[0menumerate\u001B[0m\u001B[1;33m(\u001B[0m\u001B[0muniques\u001B[0m\u001B[1;33m)\u001B[0m\u001B[1;33m}\u001B[0m\u001B[1;33m)\u001B[0m\u001B[1;33m\u001B[0m\u001B[1;33m\u001B[0m\u001B[0m\n\u001B[1;32m--> 123\u001B[1;33m     \u001B[1;32mreturn\u001B[0m \u001B[0mnp\u001B[0m\u001B[1;33m.\u001B[0m\u001B[0marray\u001B[0m\u001B[1;33m(\u001B[0m\u001B[1;33m[\u001B[0m\u001B[0mtable\u001B[0m\u001B[1;33m[\u001B[0m\u001B[0mv\u001B[0m\u001B[1;33m]\u001B[0m \u001B[1;32mfor\u001B[0m \u001B[0mv\u001B[0m \u001B[1;32min\u001B[0m \u001B[0mvalues\u001B[0m\u001B[1;33m]\u001B[0m\u001B[1;33m)\u001B[0m\u001B[1;33m\u001B[0m\u001B[1;33m\u001B[0m\u001B[0m\n\u001B[0m\u001B[0;32m    124\u001B[0m \u001B[1;33m\u001B[0m\u001B[0m\n",
      "\u001B[1;32m~\\anaconda3\\lib\\site-packages\\sklearn\\utils\\_encode.py\u001B[0m in \u001B[0;36m<listcomp>\u001B[1;34m(.0)\u001B[0m\n\u001B[0;32m    122\u001B[0m     \u001B[0mtable\u001B[0m \u001B[1;33m=\u001B[0m \u001B[0m_nandict\u001B[0m\u001B[1;33m(\u001B[0m\u001B[1;33m{\u001B[0m\u001B[0mval\u001B[0m\u001B[1;33m:\u001B[0m \u001B[0mi\u001B[0m \u001B[1;32mfor\u001B[0m \u001B[0mi\u001B[0m\u001B[1;33m,\u001B[0m \u001B[0mval\u001B[0m \u001B[1;32min\u001B[0m \u001B[0menumerate\u001B[0m\u001B[1;33m(\u001B[0m\u001B[0muniques\u001B[0m\u001B[1;33m)\u001B[0m\u001B[1;33m}\u001B[0m\u001B[1;33m)\u001B[0m\u001B[1;33m\u001B[0m\u001B[1;33m\u001B[0m\u001B[0m\n\u001B[1;32m--> 123\u001B[1;33m     \u001B[1;32mreturn\u001B[0m \u001B[0mnp\u001B[0m\u001B[1;33m.\u001B[0m\u001B[0marray\u001B[0m\u001B[1;33m(\u001B[0m\u001B[1;33m[\u001B[0m\u001B[0mtable\u001B[0m\u001B[1;33m[\u001B[0m\u001B[0mv\u001B[0m\u001B[1;33m]\u001B[0m \u001B[1;32mfor\u001B[0m \u001B[0mv\u001B[0m \u001B[1;32min\u001B[0m \u001B[0mvalues\u001B[0m\u001B[1;33m]\u001B[0m\u001B[1;33m)\u001B[0m\u001B[1;33m\u001B[0m\u001B[1;33m\u001B[0m\u001B[0m\n\u001B[0m\u001B[0;32m    124\u001B[0m \u001B[1;33m\u001B[0m\u001B[0m\n",
      "\u001B[1;32m~\\anaconda3\\lib\\site-packages\\sklearn\\utils\\_encode.py\u001B[0m in \u001B[0;36m__missing__\u001B[1;34m(self, key)\u001B[0m\n\u001B[0;32m    116\u001B[0m             \u001B[1;32mreturn\u001B[0m \u001B[0mself\u001B[0m\u001B[1;33m.\u001B[0m\u001B[0mnan_value\u001B[0m\u001B[1;33m\u001B[0m\u001B[1;33m\u001B[0m\u001B[0m\n\u001B[1;32m--> 117\u001B[1;33m         \u001B[1;32mraise\u001B[0m \u001B[0mKeyError\u001B[0m\u001B[1;33m(\u001B[0m\u001B[0mkey\u001B[0m\u001B[1;33m)\u001B[0m\u001B[1;33m\u001B[0m\u001B[1;33m\u001B[0m\u001B[0m\n\u001B[0m\u001B[0;32m    118\u001B[0m \u001B[1;33m\u001B[0m\u001B[0m\n",
      "\u001B[1;31mKeyError\u001B[0m: nan",
      "\nDuring handling of the above exception, another exception occurred:\n",
      "\u001B[1;31mValueError\u001B[0m                                Traceback (most recent call last)",
      "\u001B[1;32m<ipython-input-509-4648d04c4801>\u001B[0m in \u001B[0;36m<module>\u001B[1;34m\u001B[0m\n\u001B[0;32m     11\u001B[0m \u001B[0malcoholEncoder\u001B[0m \u001B[1;33m=\u001B[0m \u001B[0mLabelEncoder\u001B[0m\u001B[1;33m(\u001B[0m\u001B[1;33m)\u001B[0m\u001B[1;33m\u001B[0m\u001B[1;33m\u001B[0m\u001B[0m\n\u001B[0;32m     12\u001B[0m \u001B[0malcoholEncoder\u001B[0m\u001B[1;33m.\u001B[0m\u001B[0mfit\u001B[0m\u001B[1;33m(\u001B[0m\u001B[1;33m[\u001B[0m\u001B[1;34m\"no_alcohol\"\u001B[0m\u001B[1;33m,\u001B[0m \u001B[1;34m\"wine_beer\"\u001B[0m\u001B[1;33m,\u001B[0m \u001B[1;34m\"full_bar\"\u001B[0m\u001B[1;33m]\u001B[0m\u001B[1;33m)\u001B[0m\u001B[1;33m\u001B[0m\u001B[1;33m\u001B[0m\u001B[0m\n\u001B[1;32m---> 13\u001B[1;33m \u001B[0mdata\u001B[0m\u001B[1;33m[\u001B[0m\u001B[1;34m\"alcohol\"\u001B[0m\u001B[1;33m]\u001B[0m \u001B[1;33m=\u001B[0m \u001B[0malcoholEncoder\u001B[0m\u001B[1;33m.\u001B[0m\u001B[0mtransform\u001B[0m\u001B[1;33m(\u001B[0m\u001B[0mdata\u001B[0m\u001B[1;33m[\u001B[0m\u001B[1;34m\"alcohol\"\u001B[0m\u001B[1;33m]\u001B[0m\u001B[1;33m)\u001B[0m\u001B[1;33m\u001B[0m\u001B[1;33m\u001B[0m\u001B[0m\n\u001B[0m\u001B[0;32m     14\u001B[0m \u001B[1;33m\u001B[0m\u001B[0m\n\u001B[0;32m     15\u001B[0m \u001B[1;31m# Label encoding for smoking area\u001B[0m\u001B[1;33m\u001B[0m\u001B[1;33m\u001B[0m\u001B[1;33m\u001B[0m\u001B[0m\n",
      "\u001B[1;32m~\\anaconda3\\lib\\site-packages\\sklearn\\preprocessing\\_label.py\u001B[0m in \u001B[0;36mtransform\u001B[1;34m(self, y)\u001B[0m\n\u001B[0;32m    136\u001B[0m             \u001B[1;32mreturn\u001B[0m \u001B[0mnp\u001B[0m\u001B[1;33m.\u001B[0m\u001B[0marray\u001B[0m\u001B[1;33m(\u001B[0m\u001B[1;33m[\u001B[0m\u001B[1;33m]\u001B[0m\u001B[1;33m)\u001B[0m\u001B[1;33m\u001B[0m\u001B[1;33m\u001B[0m\u001B[0m\n\u001B[0;32m    137\u001B[0m \u001B[1;33m\u001B[0m\u001B[0m\n\u001B[1;32m--> 138\u001B[1;33m         \u001B[1;32mreturn\u001B[0m \u001B[0m_encode\u001B[0m\u001B[1;33m(\u001B[0m\u001B[0my\u001B[0m\u001B[1;33m,\u001B[0m \u001B[0muniques\u001B[0m\u001B[1;33m=\u001B[0m\u001B[0mself\u001B[0m\u001B[1;33m.\u001B[0m\u001B[0mclasses_\u001B[0m\u001B[1;33m)\u001B[0m\u001B[1;33m\u001B[0m\u001B[1;33m\u001B[0m\u001B[0m\n\u001B[0m\u001B[0;32m    139\u001B[0m \u001B[1;33m\u001B[0m\u001B[0m\n\u001B[0;32m    140\u001B[0m     \u001B[1;32mdef\u001B[0m \u001B[0minverse_transform\u001B[0m\u001B[1;33m(\u001B[0m\u001B[0mself\u001B[0m\u001B[1;33m,\u001B[0m \u001B[0my\u001B[0m\u001B[1;33m)\u001B[0m\u001B[1;33m:\u001B[0m\u001B[1;33m\u001B[0m\u001B[1;33m\u001B[0m\u001B[0m\n",
      "\u001B[1;32m~\\anaconda3\\lib\\site-packages\\sklearn\\utils\\_encode.py\u001B[0m in \u001B[0;36m_encode\u001B[1;34m(values, uniques, check_unknown)\u001B[0m\n\u001B[0;32m    178\u001B[0m             \u001B[1;32mreturn\u001B[0m \u001B[0m_map_to_integer\u001B[0m\u001B[1;33m(\u001B[0m\u001B[0mvalues\u001B[0m\u001B[1;33m,\u001B[0m \u001B[0muniques\u001B[0m\u001B[1;33m)\u001B[0m\u001B[1;33m\u001B[0m\u001B[1;33m\u001B[0m\u001B[0m\n\u001B[0;32m    179\u001B[0m         \u001B[1;32mexcept\u001B[0m \u001B[0mKeyError\u001B[0m \u001B[1;32mas\u001B[0m \u001B[0me\u001B[0m\u001B[1;33m:\u001B[0m\u001B[1;33m\u001B[0m\u001B[1;33m\u001B[0m\u001B[0m\n\u001B[1;32m--> 180\u001B[1;33m             \u001B[1;32mraise\u001B[0m \u001B[0mValueError\u001B[0m\u001B[1;33m(\u001B[0m\u001B[1;34mf\"y contains previously unseen labels: {str(e)}\"\u001B[0m\u001B[1;33m)\u001B[0m\u001B[1;33m\u001B[0m\u001B[1;33m\u001B[0m\u001B[0m\n\u001B[0m\u001B[0;32m    181\u001B[0m     \u001B[1;32melse\u001B[0m\u001B[1;33m:\u001B[0m\u001B[1;33m\u001B[0m\u001B[1;33m\u001B[0m\u001B[0m\n\u001B[0;32m    182\u001B[0m         \u001B[1;32mif\u001B[0m \u001B[0mcheck_unknown\u001B[0m\u001B[1;33m:\u001B[0m\u001B[1;33m\u001B[0m\u001B[1;33m\u001B[0m\u001B[0m\n",
      "\u001B[1;31mValueError\u001B[0m: y contains previously unseen labels: nan"
     ]
    }
   ],
   "source": [
    "\n",
    "# Remove unwanted features\n",
    "data = data[[\"placeID\", \"alcohol\", \"smoking_area\", \"dress_code\", \"price\", \"ambience\"]]\n",
    "from sklearn.preprocessing import LabelEncoder\n",
    "\n",
    "# One hot encoding for smoking area\n",
    "data.join(pd.get_dummies(data[\"smoking_area\"], prefix='smoking_area', columns=[\"no_smoking\"]))\n",
    "\n",
    "# Label encoding for alcohol\n",
    "alcoholEncoder = LabelEncoder()\n",
    "alcoholEncoder.fit([\"no_alcohol\", \"wine_beer\", \"full_bar\"])\n",
    "data[\"alcohol\"] = alcoholEncoder.transform(data[\"alcohol\"])\n",
    "\n",
    "# Label encoding for smoking area\n",
    "smokingEncoder = LabelEncoder()\n",
    "smokingEncoder.fit([\"none\", \"area\", \"bar\", \"permitted\"])\n",
    "data[\"smoking_area\"] = smokingEncoder.transform(data[\"smoking_area\"])\n",
    "\n",
    "# Label encoding for dress code\n",
    "dressEncoder = LabelEncoder()\n",
    "dressEncoder.fit([\"casual\", \"informal\", \"formal\"])\n",
    "data[\"dress_code\"] = dressEncoder.transform(data[\"dress_code\"])\n",
    "\n",
    "# Label encoding for price\n",
    "priceEncoder = LabelEncoder()\n",
    "priceEncoder.fit([\"low\", \"medium\", \"high\"])\n",
    "data[\"price\"] = priceEncoder.transform(data[\"price\"])\n",
    "\n",
    "# Label encoding for ambience\n",
    "ambienceEncoder = LabelEncoder()\n",
    "ambienceEncoder.fit([\"quiet\", \"familiar\"])\n",
    "data[\"ambience\"] = ambienceEncoder.transform(data[\"ambience\"])\n",
    "def find_similar_places(df, place_id, max_error):\n",
    "    matches = []\n",
    "    # Get first row with matching placeID\n",
    "    target_row = df[df['placeID'] == place_id].iloc[0]\n",
    "    for index, row in df.iterrows():\n",
    "\n",
    "        # Assert that everything is the same length\n",
    "        if len(row) != len(target_row):\n",
    "            return []\n",
    "\n",
    "        # Skip self\n",
    "        if row[\"placeID\"] == place_id:\n",
    "            continue\n",
    "\n",
    "        sigma = 0\n",
    "        # Add values\n",
    "        for idx, dp in enumerate(target_row):\n",
    "            # Skip placeID\n",
    "            if idx == 0:\n",
    "                continue\n",
    "\n",
    "            error = abs(target_row[idx] - row[idx])\n",
    "            sigma += error\n",
    "\n",
    "        # Append rows that do not differ\n",
    "        if sigma < max_error:\n",
    "            matches.append(row)\n",
    "\n",
    "    return matches"
   ],
   "metadata": {
    "collapsed": false,
    "pycharm": {
     "name": "#%%\n"
    }
   }
  },
  {
   "cell_type": "code",
   "execution_count": 502,
   "outputs": [],
   "source": [
    "class CascadeRecommender(Recommender):\n",
    "    def __init__(self, util_matrix):\n",
    "        super().__init__(util_matrix)\n",
    "\n",
    "    def recommend(self, user_id):\n",
    "        recs = Recommender.cf_recommend(self, user_id)\n",
    "        # Switch to content based recommender if collaborative did not return anything\n",
    "        selected_recs = []\n",
    "        if len(recs) == 0:\n",
    "            # Get user row\n",
    "            user_row = self.util_matrix.loc[user_id].values.flatten().tolist()\n",
    "\n",
    "            # Get indeces of non-zero values, i.e. places rated by user\n",
    "            indeces = [i for i, e in enumerate(user_row) if e != 0]\n",
    "\n",
    "            selected_recs = indeces\n",
    "        else:\n",
    "            selected_recs = recs\n",
    "\n",
    "        all_place_ids = self.util_matrix.columns.values.tolist()\n",
    "        place_ids = list()\n",
    "        for i in selected_recs:\n",
    "            place_ids.append(all_place_ids[i])\n",
    "\n",
    "        return place_ids"
   ],
   "metadata": {
    "collapsed": false,
    "pycharm": {
     "name": "#%%\n"
    }
   }
  },
  {
   "cell_type": "code",
   "execution_count": 507,
   "outputs": [
    {
     "name": "stdout",
     "output_type": "stream",
     "text": [
      "[135032, 135032, 135041]\n",
      "[135027, 135051, 135052, 135062, 135066]\n",
      "[132584, 132660, 132584, 132609, 132660]\n",
      "[132584, 132609, 132660, 132667, 135104]\n"
     ]
    }
   ],
   "source": [
    "hybrid = CascadeRecommender(umatrix)\n",
    "print(hybrid.recommend(1014))"
   ],
   "metadata": {
    "collapsed": false,
    "pycharm": {
     "name": "#%%\n"
    }
   }
  },
  {
   "cell_type": "code",
   "execution_count": 504,
   "outputs": [],
   "source": [],
   "metadata": {
    "collapsed": false,
    "pycharm": {
     "name": "#%%\n"
    }
   }
  },
  {
   "cell_type": "code",
   "execution_count": null,
   "outputs": [],
   "source": [],
   "metadata": {
    "collapsed": false,
    "pycharm": {
     "name": "#%%\n"
    }
   }
  }
 ],
 "metadata": {
  "kernelspec": {
   "display_name": "Python 3",
   "language": "python",
   "name": "python3"
  },
  "language_info": {
   "codemirror_mode": {
    "name": "ipython",
    "version": 2
   },
   "file_extension": ".py",
   "mimetype": "text/x-python",
   "name": "python",
   "nbconvert_exporter": "python",
   "pygments_lexer": "ipython2",
   "version": "2.7.6"
  }
 },
 "nbformat": 4,
 "nbformat_minor": 0
}